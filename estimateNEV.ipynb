{
 "cells": [
  {
   "cell_type": "markdown",
   "metadata": {},
   "source": [
    "# Dynamical Structure Factor"
   ]
  },
  {
   "cell_type": "markdown",
   "metadata": {},
   "source": [
    "## Estimate the minimum nev needed"
   ]
  },
  {
   "cell_type": "code",
   "execution_count": null,
   "metadata": {},
   "outputs": [],
   "source": [
    "import numpy as np\n",
    "import matplotlib.pyplot as plt\n",
    "import csv\n",
    "from mpl_toolkits.mplot3d import axes3d\n",
    "from matplotlib.collections import PolyCollection\n",
    "#%matplotlib notebook"
   ]
  },
  {
   "cell_type": "markdown",
   "metadata": {},
   "source": [
    "### Parameters"
   ]
  },
  {
   "cell_type": "code",
   "execution_count": null,
   "metadata": {},
   "outputs": [],
   "source": [
    "dim      = 2            # Dimension of the lattice\n",
    "nspins   = 32           # Number of spins in the system\n",
    "\n",
    "if dim == 1:\n",
    "    Lx   = 1            # Number of spins in the system in x direction\n",
    "    Ly   = nspins       # Number of spins in the system in y direction\n",
    "else:\n",
    "    Lx   = 4\n",
    "    Ly   = 8\n",
    "    \n",
    "rep      = 1            # Disorder realizations\n",
    "MAX_nev  = 150          # Maximum number of nev in the file\n",
    "sizes    = 3\n",
    "nev      = [50,100,150]\n",
    "#nev      = [50,100,106,110,1000]\n",
    "\n",
    "#q_idx    = [i for i in range(24)] #Indices of q to take\n",
    "q_idx    = [0,1,2,3,4,8,9,10,11,12,16,17,18,19,20]\n",
    "q_idxX   = [i//Ly for i in q_idx]\n",
    "q_idxY   = [i%Ly for i in q_idx]\n",
    "print(\"q:\", q_idx)\n",
    "print(\"qx:\", q_idxX)\n",
    "print(\"qy:\", q_idxY)\n",
    "nQ       = len(q_idx)   # Number of q values to analyse\n",
    "\n",
    "J1       = 1.0          # Nearest neighbours coupling\n",
    "D1       = 1.0          # Nearest neighbours anisotropy\n",
    "J2       = 1.0          # Next-nearest neighbours coupling\n",
    "D2       = 1.0          # Next-nearest neighbours anisotropy\n",
    "\n",
    "nW       = 5001         # Number of frequency values to plot\n",
    "w_min    = 0            # Minimum value of frequency to plot\n",
    "w_max    = 5            # Maximum value of frequency to plot\n",
    "epsilon  = 1.0/nspins   # Constant to compute the Dirac delta function\n",
    "\n",
    "#path2INdata  = \n",
    "#path2OUTdata = \n",
    "path2INdata  = \n",
    "path2OUTdata = "
   ]
  },
  {
   "cell_type": "markdown",
   "metadata": {},
   "source": [
    "### Prepare data"
   ]
  },
  {
   "cell_type": "markdown",
   "metadata": {},
   "source": [
    "#### 1. Read data from files"
   ]
  },
  {
   "cell_type": "code",
   "execution_count": null,
   "metadata": {},
   "outputs": [],
   "source": [
    "# DeltaEn and factorN have the values of (En-E0) and the preceeding factor of the DSF\n",
    "DeltaEn = np.empty((MAX_nev*nQ,rep))\n",
    "factorN = np.empty((MAX_nev*nQ,rep))\n",
    "\n",
    "# Loop over disorder realizations\n",
    "for dis_rep in range(rep):\n",
    "    \n",
    "    # Loop over excited states\n",
    "    with open(path2INdata + 'dsf_d' + str(dis_rep) + '_' + str(nspins) + '_' + str(MAX_nev) + '.dat') as INfile:\n",
    "        array = np.genfromtxt(INfile)\n",
    "        tmp_DeltaEn, tmp_factorN = array.T\n",
    "            \n",
    "    \n",
    "    DeltaEn[:,dis_rep] = tmp_DeltaEn\n",
    "    factorN[:,dis_rep] = tmp_factorN\n",
    "\n",
    "print(DeltaEn.shape)\n",
    "print(factorN.shape)"
   ]
  },
  {
   "cell_type": "markdown",
   "metadata": {},
   "source": [
    "#### 2. Create the frequency-dependent variables"
   ]
  },
  {
   "cell_type": "code",
   "execution_count": null,
   "metadata": {},
   "outputs": [],
   "source": [
    "delta_w  = (w_max - w_min)/(nW - 1)\n",
    "w        = np.linspace(w_min,w_max,nW)\n",
    "Sw       = np.zeros((nW,nQ,sizes))\n",
    "\n",
    "# Funtion to compute the Dirac delta\n",
    "pi     = np.arccos(-1)\n",
    "inv_pi = 1.0/pi\n",
    "\n",
    "def DiracDelta(w,deltaEn,e2):\n",
    "    return inv_pi*e2/(e2 + (w-deltaEn)*(w-deltaEn))\n",
    "\n",
    "# Loop over q values\n",
    "e2 = epsilon*epsilon\n",
    "\n",
    "# Loop over disorder realizations\n",
    "for dis_rep in range(rep):  \n",
    "    \n",
    "    # Loop over q values\n",
    "    tmp_Sw = np.zeros((rep,nW,nQ,sizes))\n",
    "    for wi in range(nW):\n",
    "        \n",
    "        for q in range(nQ):\n",
    "            for s in range(sizes):\n",
    "                start_off = MAX_nev * q + 1\n",
    "                end_off   = MAX_nev * q + nev[s]\n",
    "                mid_array = factorN[start_off:end_off,dis_rep] * DiracDelta(w[wi],DeltaEn[start_off:end_off,dis_rep],e2)\n",
    "                tmp_Sw[dis_rep,wi,q,s] = np.sum(mid_array)\n",
    "                \n",
    "                #print(\"q: \", q, \"start: \", start_off, \"end: \", end_off)\n",
    "\n",
    "# Compute average over disorder realizations\n",
    "Sw = np.sum(tmp_Sw, axis=0)\n",
    "Sw *= 2*pi\n",
    "Sw /= rep\n",
    "\n",
    "print(Sw.shape)"
   ]
  },
  {
   "cell_type": "markdown",
   "metadata": {},
   "source": [
    "### Plot"
   ]
  },
  {
   "cell_type": "markdown",
   "metadata": {},
   "source": [
    "#### 1. Plot for every q separately"
   ]
  },
  {
   "cell_type": "code",
   "execution_count": null,
   "metadata": {},
   "outputs": [],
   "source": [
    "# Plot parameters\n",
    "subsX = nQ//4\n",
    "subsY = 4\n",
    "if subsX*subsY != nQ:\n",
    "    subsX += 1\n",
    "\n",
    "fig, ax = plt.subplots(subsX, subsY, gridspec_kw={'wspace':0.5, 'hspace': 0.5}, figsize=(20,20))\n",
    "fig.suptitle(\"Dynamical Structure Factor for different q values\", fontsize=30)\n",
    "\n",
    "\n",
    "for i in range(subsX):\n",
    "    for j in range(subsY):\n",
    "        qij = i*subsY + j\n",
    "        #print(qij,q_idx[qij])\n",
    "        if qij >= nQ:\n",
    "            break\n",
    "        ax[i,j].set_title('q: ' + str(q_idx[qij]) + '--> q = (' + str(q_idxX[qij]) + ',' + str(q_idxY[qij]) + ')')\n",
    "        ax[i,j].set_xlabel('w')\n",
    "        ax[i,j].set_ylabel('S(w)')\n",
    "        ax[i,j].ticklabel_format(axis='y', style='sci', scilimits=(0,0))\n",
    "        ax[i,j].grid()\n",
    "        ax[i,j].plot(w,Sw[:,qij,0:2])"
   ]
  },
  {
   "cell_type": "code",
   "execution_count": null,
   "metadata": {},
   "outputs": [],
   "source": [
    "if dim == 2 and nspins == 32:\n",
    "    fig3, ax3 = plt.subplots(1,2,gridspec_kw={'wspace':0.5, 'hspace': 0.5}, figsize=(20,5))\n",
    "\n",
    "    ax3[0].set_title('S(w) for q=20 --> LARGER peak')\n",
    "    ax3[0].set_xlabel('w')\n",
    "    ax3[0].set_ylabel('S(w)')\n",
    "    ax3[0].grid(which='both')\n",
    "    ax3[0].plot(w, Sw[:,14,])\n",
    "    \n",
    "    ax3[1].set_title('S(w) for q=20 --> SMALLER peak')\n",
    "    ax3[1].set_xlabel('w')\n",
    "    ax3[1].set_ylabel('S(w)')\n",
    "    ax3[1].grid(which='both')\n",
    "    ax3[1].plot(w[1000:4000], Sw[1000:4000,14,2])"
   ]
  },
  {
   "cell_type": "code",
   "execution_count": null,
   "metadata": {},
   "outputs": [],
   "source": [
    "if dim == 2 and nspins == 16:\n",
    "    fig3, ax3 = plt.subplots(1,2,gridspec_kw={'wspace':0.5, 'hspace': 0.5}, figsize=(10,5))\n",
    "\n",
    "    ax3[0].set_title('S(w) for q=10 --> LARGER peak')\n",
    "    ax3[0].set_xlabel('w')\n",
    "    ax3[0].set_ylabel('S(w)')\n",
    "    ax3[0].grid()\n",
    "    ax3[0].plot(w, Sw[:,10,2:4])\n",
    "\n",
    "    ax3[1].set_title('S(w) for q=10 --> SMALLER peak')\n",
    "    ax3[1].set_xlabel('w')\n",
    "    ax3[1].set_ylabel('S(w)')\n",
    "    ax3[1].grid()\n",
    "    ax3[1].plot(w[3000:5000],Sw[3000:5000,10,2:4])"
   ]
  }
 ],
 "metadata": {
  "kernelspec": {
   "display_name": "Python 3",
   "language": "python",
   "name": "python3"
  },
  "language_info": {
   "codemirror_mode": {
    "name": "ipython",
    "version": 3
   },
   "file_extension": ".py",
   "mimetype": "text/x-python",
   "name": "python",
   "nbconvert_exporter": "python",
   "pygments_lexer": "ipython3",
   "version": "3.6.5"
  }
 },
 "nbformat": 4,
 "nbformat_minor": 2
}
