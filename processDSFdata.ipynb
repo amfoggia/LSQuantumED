{
 "cells": [
  {
   "cell_type": "markdown",
   "metadata": {},
   "source": [
    "## Process DSF data\n",
    "\n",
    "We want to compute the `Dynamical Structure Factor`, which is given by\n",
    "\n",
    "$$ S_{\\vec{q}}(w) = \\sum_{n=1}^{nev} \\left| \\left\\langle \\Psi_n^X \\left| \\hat{S}_{\\vec{q}}^{\\alpha} \\right| \\Psi_n^0 \\right\\rangle \\right| ^2 \\delta(\\omega - (E_n^X - E_0)) $$\n",
    "\n",
    "$$ S_{\\vec{q}}(w) = \\sum_{n=1}^{nev} \\left| \\left\\langle \\Psi_n^X \\left| \\hat{S}_{\\vec{q}}^{\\alpha} \\right| \\Psi_n^0 \\right\\rangle \\right| ^2 \\frac{1}{\\pi} \\frac{\\epsilon^2}{(\\omega - (E_n^X - E_0))^2 + \\epsilon^2} $$\n",
    "\n",
    "From the code we obtain a file with two columns: \n",
    "1. the first one, has the values of $ \\Delta_n = E_n^X -E_0 $\n",
    "2. the second one, has the values of the coefficient $ \\left\\langle \\Psi_n^X \\left| \\hat{S}_{\\vec{q}}^{\\alpha} \\right| \\Psi_n^0 \\right\\rangle $"
   ]
  },
  {
   "cell_type": "code",
   "execution_count": null,
   "metadata": {},
   "outputs": [],
   "source": [
    "import numpy as np\n",
    "import matplotlib.pyplot as plt\n",
    "import csv\n",
    "from mpl_toolkits.mplot3d import axes3d\n",
    "from matplotlib.collections import PolyCollection\n",
    "%matplotlib notebook"
   ]
  },
  {
   "cell_type": "markdown",
   "metadata": {},
   "source": [
    "### Parameters"
   ]
  },
  {
   "cell_type": "code",
   "execution_count": null,
   "metadata": {},
   "outputs": [],
   "source": [
    "dim      = 2            # Dimension of the lattice\n",
    "nspins   = 32           # Number of spins in the system\n",
    "\n",
    "if dim == 1:\n",
    "    Lx   = 1            # Number of spins in the system in x direction\n",
    "    Ly   = nspins       # Number of spins in the system in y direction\n",
    "else:\n",
    "    Lx   = 4\n",
    "    Ly   = 8\n",
    "    \n",
    "rep      = 1            # Disorder realizations\n",
    "nev      = 150          # Number of excited states used\n",
    "\n",
    "#q_idx    = [i for i in range(24)] #Indices of q to take\n",
    "q_idx    = [0,1,2,3,4,8,9,10,11,12,16,17,18,19,20]\n",
    "q_idxX   = [i//Ly for i in q_idx]\n",
    "q_idxY   = [i%Ly for i in q_idx]\n",
    "print(\"q:\", q_idx)\n",
    "print(\"qx:\", q_idxX)\n",
    "print(\"qy:\", q_idxY)\n",
    "nQ       = len(q_idx)   # Number of q values to analyse\n",
    "\n",
    "J1       = 1.0          # Nearest neighbours coupling\n",
    "D1       = 1.0          # Nearest neighbours anisotropy\n",
    "J2       = 1.0          # Next-nearest neighbours coupling\n",
    "D2       = 1.0          # Next-nearest neighbours anisotropy\n",
    "\n",
    "nW       = 5001         # Number of frequency values to plot\n",
    "w_min    = 0            # Minimum value of frequency to plot\n",
    "w_max    = 5            # Maximum value of frequency to plot\n",
    "epsilon  = 1.0/nspins   # Constant to compute the Dirac delta function\n",
    "\n",
    "path2INdata  = \n",
    "path2OUTdata = "
   ]
  },
  {
   "cell_type": "markdown",
   "metadata": {},
   "source": [
    "### Prepare data"
   ]
  },
  {
   "cell_type": "markdown",
   "metadata": {},
   "source": [
    "#### 1. Read data from files"
   ]
  },
  {
   "cell_type": "code",
   "execution_count": null,
   "metadata": {},
   "outputs": [],
   "source": [
    "# DeltaEn and factorN have the values of (En-E0) and the preceeding factor of the DSF\n",
    "DeltaEn = np.empty((nev*nQ,rep))\n",
    "factorN = np.empty((nev*nQ,rep))\n",
    "\n",
    "# Loop over disorder realizations\n",
    "for dis_rep in range(rep):\n",
    "    \n",
    "    # Loop over excited states\n",
    "    with open(path2INdata + 'dsf_d' + str(dis_rep) + '_' + str(nspins) + '_' + str(nev) + '.dat') as INfile:\n",
    "        array = np.genfromtxt(INfile)\n",
    "        tmp_DeltaEn, tmp_factorN = array.T\n",
    "            \n",
    "    \n",
    "    DeltaEn[:,dis_rep] = tmp_DeltaEn\n",
    "    factorN[:,dis_rep] = tmp_factorN"
   ]
  },
  {
   "cell_type": "markdown",
   "metadata": {},
   "source": [
    "#### 2. Create the frequency-dependent variables"
   ]
  },
  {
   "cell_type": "code",
   "execution_count": null,
   "metadata": {},
   "outputs": [],
   "source": [
    "    delta_w  = (w_max - w_min)/(nW - 1)\n",
    "    w  = np.linspace(w_min,w_max,nW)\n",
    "    Sw = np.zeros((nW,nQ))\n",
    "\n",
    "    # Funtion to compute the Dirac delta\n",
    "    pi     = np.arccos(-1)\n",
    "    inv_pi = 1.0/pi\n",
    "\n",
    "    def DiracDelta(w,deltaEn,e2):\n",
    "        return inv_pi*e2/(e2 + (w-deltaEn)*(w-deltaEn))\n",
    "\n",
    "    # Loop over q values\n",
    "    e2 = epsilon*epsilon\n",
    "\n",
    "    # Loop over disorder realizations\n",
    "    for dis_rep in range(rep):  \n",
    "\n",
    "        # Loop over q values\n",
    "        tmp_Sw = np.zeros((rep,nW,nQ))\n",
    "        for wi in range(nW):\n",
    "\n",
    "            for q in range(nQ):\n",
    "                start_off = q*nev+1\n",
    "                end_off   = (q+1)*nev\n",
    "                mid_array = factorN[start_off:end_off,dis_rep] * DiracDelta(w[wi],DeltaEn[start_off:end_off,dis_rep],e2)\n",
    "                tmp_Sw[dis_rep,wi,q] = np.sum(mid_array)\n",
    "\n",
    "    # Compute average over disorder realizations\n",
    "    Sw = np.sum(tmp_Sw, axis=0)\n",
    "    Sw *= 2*pi\n",
    "    Sw /= rep"
   ]
  },
  {
   "cell_type": "markdown",
   "metadata": {},
   "source": [
    "#### 3. Write in file"
   ]
  },
  {
   "cell_type": "code",
   "execution_count": null,
   "metadata": {},
   "outputs": [],
   "source": [
    "header = \"        w                 Sw\"\n",
    "np.savetxt(path2OUTdata + 'Sq.csv', np.c_[w,Sw], header=header, fmt='%16.13e', delimiter=' ',)      "
   ]
  },
  {
   "cell_type": "markdown",
   "metadata": {},
   "source": [
    "### Plot"
   ]
  },
  {
   "cell_type": "markdown",
   "metadata": {},
   "source": [
    "#### 1. Plot for every q separately"
   ]
  },
  {
   "cell_type": "code",
   "execution_count": null,
   "metadata": {
    "scrolled": false
   },
   "outputs": [],
   "source": [
    "# Plot parameters\n",
    "subsX = nQ//4\n",
    "subsY = 4\n",
    "if subsX*subsY != nQ:\n",
    "    subsX += 1\n",
    "\n",
    "fig, ax = plt.subplots(subsX, subsY, gridspec_kw={'wspace':0.5, 'hspace': 0.5}, figsize=(20,20))\n",
    "fig.suptitle(\"Dynamical Structure Factor for different q values\", fontsize=30)\n",
    "\n",
    "\n",
    "for i in range(subsX):\n",
    "    for j in range(subsY):\n",
    "        qij = i*subsY + j\n",
    "        #print(qij,q_idx[qij])\n",
    "        if qij >= nQ:\n",
    "            break\n",
    "        ax[i,j].set_title('q: ' + str(q_idx[qij]) + '--> q = (' + str(q_idxX[qij]) + ',' + str(q_idxY[qij]) + ')')\n",
    "        ax[i,j].set_xlabel('w')\n",
    "        ax[i,j].set_ylabel('S(w)')\n",
    "        ax[i,j].ticklabel_format(axis='y', style='sci', scilimits=(0,0))\n",
    "        ax[i,j].grid()\n",
    "        ax[i,j].plot(w,Sw[:,qij])"
   ]
  },
  {
   "cell_type": "code",
   "execution_count": null,
   "metadata": {},
   "outputs": [],
   "source": [
    "if dim == 2 and nspins == 32:\n",
    "    fig3, ax3 = plt.subplots(1,2,gridspec_kw={'wspace':0.5, 'hspace': 0.5}, figsize=(20,5))\n",
    "\n",
    "    ax3[0].set_title('S(w) for q=20 --> LARGER peak')\n",
    "    ax3[0].set_xlabel('w')\n",
    "    ax3[0].set_ylabel('S(w)')\n",
    "    ax3[0].grid(which='both')\n",
    "    ax3[0].plot(w, Sw[:,14])"
   ]
  },
  {
   "cell_type": "code",
   "execution_count": null,
   "metadata": {
    "scrolled": true
   },
   "outputs": [],
   "source": [
    "if dim == 2 and nspins == 16:\n",
    "    fig3, ax3 = plt.subplots(1,2,gridspec_kw={'wspace':0.5, 'hspace': 0.5}, figsize=(20,5))\n",
    "\n",
    "    ax3[0].set_title('S(w) for q=10 --> LARGER peak')\n",
    "    ax3[0].set_xlabel('w')\n",
    "    ax3[0].set_ylabel('S(w)')\n",
    "    ax3[0].grid()\n",
    "    ax3[0].plot(w, Sw[:,10])\n",
    "\n",
    "    ax3[1].set_title('S(w) for q=10 --> SMALLER peak')\n",
    "    ax3[1].set_xlabel('w')\n",
    "    ax3[1].set_ylabel('S(w)')\n",
    "    ax3[1].grid()\n",
    "    ax3[1].plot(w[4000:5000],Sw[4000:5000,10])"
   ]
  },
  {
   "cell_type": "code",
   "execution_count": null,
   "metadata": {},
   "outputs": [],
   "source": [
    "if dim == 2 and nspins == 16:\n",
    "    # For (pi,pi) --> q=10 check the ratio between peaks\n",
    "    max1 = np.argmax(Sw,axis=0)[10]\n",
    "    max2 = np.argpartition(Sw[4000:5000,10],-1)[-1:]\n",
    "    \n",
    "    ratio = Sw[max1,10]/Sw[4000+max2[0],10]\n",
    "    print('Ratio between larget peak and smaller one:', ratio)\n",
    "    print('Approx ratio from literature (Chen,Schuttler PhysRevB1989):', 15.4/0.174)\n",
    "    #print(max1, max2)\n",
    "    #print(Sw[579,10])\n",
    "    #print(Sw[4000+max2[0],10])"
   ]
  },
  {
   "cell_type": "markdown",
   "metadata": {},
   "source": [
    "#### 2. Plot all q values together"
   ]
  },
  {
   "cell_type": "code",
   "execution_count": null,
   "metadata": {},
   "outputs": [],
   "source": [
    "# Maximum value over all Sq(w)\n",
    "max = 0\n",
    "for qi in range(nQ):\n",
    "    tmp_max = Sw[:,qi].max()\n",
    "    if tmp_max >= max:\n",
    "        max = tmp_max\n",
    "\n",
    "# q values for plotting\n",
    "q = np.linspace(0,nQ-1,nQ)\n",
    "\n",
    "# Prepare data for 3D plot\n",
    "verts = []\n",
    "for qi in range(nQ):\n",
    "    verts.append(list(zip(w,Sw[:,qi])))\n",
    "\n",
    "# Set colors\n",
    "fc = []\n",
    "for qi in range(nQ):\n",
    "    fc.append(((qi%10)*0.1+0.09, (qi%10)*0.1+0.1, (qi%10)*0.1+0.08))\n",
    "\n",
    "# Define the 3D plot\n",
    "poly = PolyCollection(verts, facecolors = fc)\n",
    "poly.set_alpha(0.7)\n",
    "\n",
    "fig2 = plt.figure(figsize=(20,20))\n",
    "ax2  = fig2.add_subplot(111, projection='3d')\n",
    "ax2.add_collection3d(poly, zs=q, zdir='y')\n",
    "\n",
    "# Plot details\n",
    "ax2.set_title('Dynamical Structure Factor', fontsize=30)\n",
    "ax2.ticklabel_format(axis='z', style='sci', scilimits=(0,0))\n",
    "\n",
    "ax2.set_xlim3d(w.min(), w.max())\n",
    "ax2.set_xlabel('w')\n",
    "ax2.set_ylim3d(q.min(), q.max())\n",
    "ax2.set_ylabel('q')\n",
    "ax2.set_yticks(np.arange(0,nQ,1))\n",
    "ax2.set_zlim3d(Sw[:,2].min(), max)\n",
    "ax2.set_zlabel('Sq(w)')\n",
    "\n",
    "plt.show()"
   ]
  },
  {
   "cell_type": "markdown",
   "metadata": {},
   "source": [
    "### Checks"
   ]
  },
  {
   "cell_type": "markdown",
   "metadata": {},
   "source": [
    "##### 1. Sum rule: $ \\sum_{\\vec{q}} \\int \\frac{d\\omega}{2\\pi} S^{\\gamma}_{\\vec{q}}(\\omega) = \\frac{1}{4} \n",
    "\\rightarrow \n",
    "\\frac{\\Delta\\omega}{2\\pi} \\sum_{\\vec{q}} \\sum_i^{nW} S^{\\gamma}_{\\vec{q}}(\\omega_i) = \\frac{1}{4}$"
   ]
  },
  {
   "cell_type": "code",
   "execution_count": null,
   "metadata": {},
   "outputs": [],
   "source": [
    "sum_rule = np.sum(Sw) * delta_w / (2*pi)\n",
    "e_msg = \"Sum rule does not match: sum_rule = \" + str(sum_rule)\n",
    "assert abs(sum_rule - 0.25)<0.01, e_msg\n",
    "print('Sum rule: ', sum_rule)"
   ]
  },
  {
   "cell_type": "markdown",
   "metadata": {},
   "source": [
    "#### 2. Dispersion relationship (ONLY FOR 1D)"
   ]
  },
  {
   "cell_type": "code",
   "execution_count": null,
   "metadata": {},
   "outputs": [],
   "source": [
    "if dim == 1:\n",
    "    # Get the positions of the highest peak for each q\n",
    "    disp_w = np.argmax(Sw,axis=0)\n",
    "\n",
    "    disp_fig, disp_ax = plt.subplots()\n",
    "\n",
    "    # Plot dispersion along y axis\n",
    "    #x0 = 2\n",
    "    #q_y = np.zeros((Ly))\n",
    "    #for i in range(Ly):\n",
    "    #q_y[i] = i + x0 * Lx\n",
    "    #qy = q_y.astype(int)\n",
    "    #print(qy)\n",
    "\n",
    "    disp_ax.set_title('Dispersion w(q=2pi/L * n)')\n",
    "    disp_ax.set_ylabel('w(q)')\n",
    "    disp_ax.set_xlabel('q')\n",
    "    disp_ax.grid()\n",
    "    disp_ax.plot(q/Ly*2*pi, disp_w*delta_w)\n",
    "    disp_ax.plot(q/Ly*2*pi,pi/2*abs(np.sin(q/Ly*2*pi)))"
   ]
  },
  {
   "cell_type": "markdown",
   "metadata": {},
   "source": [
    "#### 2. Dispersion relationship (ONLY FOR 2D)"
   ]
  },
  {
   "cell_type": "code",
   "execution_count": null,
   "metadata": {},
   "outputs": [],
   "source": [
    "if dim == 2:\n",
    "    # Get the positions of the highest peak for each q\n",
    "    disp_w = np.argmax(Sw,axis=0)\n",
    "\n",
    "    disp_fig, disp_ax = plt.subplots(1,2,gridspec_kw={'wspace':0.5, 'hspace': 0.5}, figsize=(20,5))\n",
    "\n",
    "    # Plot dispersion along y axis\n",
    "    x0 = 2\n",
    "    q_y = np.zeros((Ly))\n",
    "    for i in range(Ly):\n",
    "        \n",
    "        q_y[i] = i + x0 * Lx\n",
    "        qy = q_y.astype(int)\n",
    "    print('Values of q printing (along Y):', qy)\n",
    "\n",
    "    disp_ax[0].set_title('Dispersion w(q=2pi/L * n) along Y')\n",
    "    disp_ax[0].set_ylabel('w(q)')\n",
    "    disp_ax[0].set_xlabel('q')\n",
    "    disp_ax[0].grid()\n",
    "    disp_ax[0].plot(q[0:4]/Ly*2*pi, disp_w[qy]*delta_w)\n",
    "    disp_ax[0].plot(q[0:4]/Ly*2*pi,np.sqrt(4-(np.cos(x0/Lx*2*pi)+np.cos(q[0:4]/Ly*2*pi))**2))\n",
    "    \n",
    "    # Plot dispersion along x axis\n",
    "    y0 = 1\n",
    "    q_x = np.zeros((Lx))\n",
    "    for i in range(Lx):\n",
    "        q_x[i] = Ly * i + y0\n",
    "        qx = q_x.astype(int)\n",
    "    print('Values of q printing (along X):', qx)\n",
    "\n",
    "    disp_ax[1].set_title('Dispersion w(q=2pi/L * n) along X')\n",
    "    disp_ax[1].set_ylabel('w(q)')\n",
    "    disp_ax[1].set_xlabel('q')\n",
    "    disp_ax[1].grid()\n",
    "    disp_ax[1].plot(q[0:4]/Lx*2*pi, disp_w[qx]*delta_w)\n",
    "    disp_ax[1].plot(q[0:4]/Lx*2*pi,np.sqrt(4-(np.cos(q[0:4]/Lx*2*pi)+np.cos(y0/Ly*2*pi))**2))"
   ]
  }
 ],
 "metadata": {
  "kernelspec": {
   "display_name": "Python 3",
   "language": "python",
   "name": "python3"
  },
  "language_info": {
   "codemirror_mode": {
    "name": "ipython",
    "version": 3
   },
   "file_extension": ".py",
   "mimetype": "text/x-python",
   "name": "python",
   "nbconvert_exporter": "python",
   "pygments_lexer": "ipython3",
   "version": "3.6.5"
  }
 },
 "nbformat": 4,
 "nbformat_minor": 2
}
