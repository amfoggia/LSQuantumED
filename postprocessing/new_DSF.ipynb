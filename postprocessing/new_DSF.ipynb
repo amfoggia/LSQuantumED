{
 "cells": [
  {
   "cell_type": "markdown",
   "metadata": {},
   "source": [
    "## Process DSF data in NEW way\n",
    "\n",
    "We want to compute the `Dynamical Structure Factor`, which is given by\n",
    "\n",
    "$$ S_{\\vec{q}}(w) = \\sum_{n=1}^{nev} \\left| \\left\\langle \\Psi_n^X \\left| \\hat{S}_{\\vec{q}}^{\\alpha} \\right| \\Psi_0 \\right\\rangle \\right| ^2 \\delta(\\omega - (E_n^X - E_0)) $$\n",
    "\n",
    "$$ S_{\\vec{q}}(w) = \\sum_{n=1}^{nev} \\left| \\left\\langle \\Psi_n^X \\left| \\hat{S}_{\\vec{q}}^{\\alpha} \\right| \\Psi_0 \\right\\rangle \\right| ^2 \\frac{1}{\\pi} \\frac{\\epsilon^2}{(\\omega - (E_n^X - E_0))^2 + \\epsilon^2} $$\n",
    "\n",
    "Where\n",
    "\n",
    "$$ \\hat{S}_{\\vec{q}}^{\\alpha} = \\frac{1}{\\sqrt{L}} \\sum_{i = 0}^{L-1} e^{i \\vec{q} \\cdot \\vec{r}_i} \\hat{S}_i^{\\alpha} $$\n",
    "\n",
    "So, we can rewrite the DSF as:\n",
    "$$ S_{\\vec{q}}(w) = \\sum_{n=1}^{nev} \\left| \\left\\langle \\Psi_n^X \\left| \\frac{1}{\\sqrt{L}} \\sum_{i=0}^{L-1} e^{i \\vec{q} \\cdot \\vec{r}_i} \\hat{S}_i^{\\alpha} \\right| \\Psi_0 \\right\\rangle \\right| ^2 \\frac{1}{\\pi} \\frac{\\epsilon^2}{(\\omega - (E_n^X - E_0))^2 + \\epsilon^2} $$\n",
    "\n",
    "$$ S_{\\vec{q}}(w) = \\sum_{n=1}^{nev} \\left| \\frac{1}{\\sqrt{L}} \\sum_{i=0}^{L-1} e^{i \\vec{q} \\cdot \\vec{r}_i} \\left\\langle \\Psi_n^X \\left| \\hat{S}_i^{\\alpha} \\right| \\Psi_0 \\right\\rangle \\right| ^2 \\frac{1}{\\pi} \\frac{\\epsilon^2}{(\\omega - (E_n^X - E_0))^2 + \\epsilon^2} $$\n",
    "\n",
    "From the code we obtain a file with two columns: \n",
    "1. the first one, has the values of $ \\Delta_n = E_n^X -E_0 $\n",
    "2. the second one, has the values of the coefficient $ \\left\\langle \\Psi_n^X \\left| \\hat{S}_i^{\\alpha} \\right| \\Psi_0 \\right\\rangle $"
   ]
  },
  {
   "cell_type": "code",
   "execution_count": null,
   "metadata": {},
   "outputs": [],
   "source": [
    "import numpy as np\n",
    "import cmath as m\n",
    "import matplotlib.pyplot as plt\n",
    "import csv\n",
    "import scipy.stats\n",
    "from mpl_toolkits.mplot3d import axes3d\n",
    "from matplotlib.collections import PolyCollection\n",
    "#%matplotlib notebook"
   ]
  },
  {
   "cell_type": "markdown",
   "metadata": {},
   "source": [
    "### Parameters"
   ]
  },
  {
   "cell_type": "code",
   "execution_count": null,
   "metadata": {},
   "outputs": [],
   "source": [
    "# Lattice\n",
    "\n",
    "dim      = 2           # Dimension of the lattice\n",
    "nspins   = 16          # Number of spins in the system\n",
    "\n",
    "if dim == 1:\n",
    "    Lx   = 1            # Number of spins in the system in x direction\n",
    "    Ly   = nspins       # Number of spins in the system in y direction\n",
    "else:\n",
    "    Lx   = 4\n",
    "    Ly   = 4\n",
    "    \n",
    "r_idx    = [i for i in range(nspins)]\n",
    "r_idxX   = [i//Ly for i in r_idx]\n",
    "r_idxY   = [i%Ly for i in r_idx]\n",
    "\n",
    "print(\"r:\", r_idx)\n",
    "print(\"rx:\", r_idxX)\n",
    "print(\"ry:\", r_idxY)\n",
    "    \n",
    "rep      = 1000         # Disorder realizations\n",
    "nev      = 200          # Number of excited states used"
   ]
  },
  {
   "cell_type": "code",
   "execution_count": null,
   "metadata": {},
   "outputs": [],
   "source": [
    "# Reciprocal lattice\n",
    "\n",
    "nQ       = nspins            # Number of q values to analyse\n",
    "pi       = np.arccos(-1)\n",
    "q_idx    = [i for i in range(nQ)]\n",
    "q_idxX   = [(i//Ly)*2*pi/Lx for i in q_idx]\n",
    "q_idxY   = [(i%Ly)*2*pi/Ly for i in q_idx]\n",
    "\n",
    "q_X   = [(i//Ly) for i in q_idx]\n",
    "q_Y   = [(i%Ly) for i in q_idx]\n",
    "\n",
    "print(\"q:\", q_idx)\n",
    "print(\"qx:\", q_idxX)\n",
    "print(\"qy:\", q_idxY)\n",
    "print(\"qx:\", q_X)\n",
    "print(\"qy:\", q_Y)"
   ]
  },
  {
   "cell_type": "code",
   "execution_count": null,
   "metadata": {},
   "outputs": [],
   "source": [
    "# Hamiltonian parameters\n",
    "\n",
    "J1           = 1.0      # Nearest neighbours coupling\n",
    "D1           = 1.0      # Nearest neighbours anisotropy\n",
    "J2           = 0.4      # Next-nearest neighbours coupling\n",
    "D2           = 0.4      # Next-nearest neighbours anisotropy\n",
    "dis_strength = 0.3      # Strength of the disorder"
   ]
  },
  {
   "cell_type": "code",
   "execution_count": null,
   "metadata": {},
   "outputs": [],
   "source": [
    "# Frequency parametes\n",
    "\n",
    "nW       = 5001         # Number of frequency values to plot\n",
    "w_min    = 0            # Minimum value of frequency to plot\n",
    "w_max    = 5            # Maximum value of frequency to plot\n",
    "epsilon  = 1.0/nspins   # Constant to compute the Dirac delta function"
   ]
  },
  {
   "cell_type": "code",
   "execution_count": null,
   "metadata": {},
   "outputs": [],
   "source": [
    "# Files\n",
    "\n",
    "read = True\n",
    "\n",
    "#path2INdata  ='/home/ale/RUNS/32spins-40procs-128nodes-4871371/'\n",
    "#path2OUTdata  ='/home/ale/RUNS/32spins-40procs-128nodes-4871371/'\n",
    "path2INdata  = '/home/ale/RUNS/dis' + str(dis_strength) + '/' + str(nspins) + 'nnn' + str(J2) + '/'\n",
    "path2OUTdata = '/home/ale/RUNS/dis' + str(dis_strength) + '/' + str(nspins) + 'nnn' + str(J2) + '/'"
   ]
  },
  {
   "cell_type": "markdown",
   "metadata": {},
   "source": [
    "### Prepare data"
   ]
  },
  {
   "cell_type": "markdown",
   "metadata": {},
   "source": [
    "#### 1a. Read data from files"
   ]
  },
  {
   "cell_type": "code",
   "execution_count": null,
   "metadata": {},
   "outputs": [],
   "source": [
    "# DeltaEn and factorN have the values of (En-E0) and the preceeding factor of the DSF\n",
    "DeltaEn = np.empty((nev,rep))\n",
    "factorNSPIN = np.empty((nev*nspins,rep))\n",
    "\n",
    "# Loop over disorder realizations\n",
    "for dis_rep in range(rep):\n",
    "    \n",
    "    # Loop over excited states\n",
    "    with open(path2INdata + 'dsf_d' + str(dis_rep) + '_ns' + str(nspins) + '_nev' + str(nev) + '.dat') as INfile:\n",
    "    #with open(path2INdata + 'dsf_NODISORDER' + '_ns' + str(nspins) + '_nev' + str(nev) + '.dat') as INfile:\n",
    "        array = np.genfromtxt(INfile)\n",
    "        tmp_DeltaEn, tmp_factorN = array.T\n",
    "            \n",
    "    \n",
    "    DeltaEn[:,dis_rep] = tmp_DeltaEn[0:nev]\n",
    "    factorNSPIN[:,dis_rep] = tmp_factorN"
   ]
  },
  {
   "cell_type": "code",
   "execution_count": null,
   "metadata": {},
   "outputs": [],
   "source": [
    "delta_w  = (w_max - w_min)/(nW - 1)\n",
    "w  = np.linspace(w_min,w_max,nW)\n",
    "tmp_Sw = np.zeros((rep,nQ,nW))\n",
    "Sw = np.zeros((nW,nQ))\n",
    "\n",
    "# Loop over q values\n",
    "e2 = epsilon*epsilon\n",
    "\n",
    "# Funtion to compute the Dirac delta\n",
    "pi     = np.arccos(-1)\n",
    "inv_pi = 1.0/pi\n",
    "\n",
    "def DiracDelta(w,deltaEn,e2):\n",
    "    return inv_pi*e2/(e2 + (w-deltaEn)*(w-deltaEn))"
   ]
  },
  {
   "cell_type": "markdown",
   "metadata": {},
   "source": [
    "#### 1b. Sum over lattice sites\n",
    "\n",
    "So, basically, one has to do the part:\n",
    "\n",
    "$$ \\frac{1}{\\sqrt{L}} \\sum_{i=0}^{L-1} e^{i \\vec{q} \\cdot \\vec{r}_i} \\left\\langle \\Psi_n^X \\left| \\hat{S}_i^{\\alpha} \\right| \\Psi_0 \\right\\rangle $$"
   ]
  },
  {
   "cell_type": "code",
   "execution_count": null,
   "metadata": {},
   "outputs": [],
   "source": [
    "if read == False:\n",
    "    \n",
    "    # Compute the exponential coefficient\n",
    "\n",
    "    expCoeff = np.empty((nQ,nspins),dtype=np.complex)\n",
    "\n",
    "    for q in range(nQ):\n",
    "        for spin in range(nspins):\n",
    "            coeff = q_idxX[q]*r_idxX[spin] + q_idxY[q]*r_idxY[spin]\n",
    "            expCoeff[q,spin] = m.exp(1j*coeff)"
   ]
  },
  {
   "cell_type": "code",
   "execution_count": null,
   "metadata": {},
   "outputs": [],
   "source": [
    "if read == False:\n",
    "    # Sum over the spins\n",
    "\n",
    "    print(factorNSPIN.shape)\n",
    "\n",
    "    factorN_cplx = np.zeros((nQ,rep,nev),dtype=np.complex)\n",
    "\n",
    "    print(factorN_cplx.shape)\n",
    "\n",
    "    for q in range(nQ):\n",
    "        for n in range(nev):\n",
    "            for i in range(nspins):\n",
    "                offset = i * nev\n",
    "                factorN_cplx[q,:,n] = factorN_cplx[q,:,n] + expCoeff[q,i]*factorNSPIN[n+offset,:]\n",
    "\n",
    "    factorN = np.empty((nQ,rep,nev))\n",
    "    factorN[:,:,:] = abs(factorN_cplx[:,:,:])**2/nspins"
   ]
  },
  {
   "cell_type": "code",
   "execution_count": null,
   "metadata": {},
   "outputs": [],
   "source": [
    "if read == False:\n",
    "    for dis_rep in range(rep):\n",
    "\n",
    "        # Compute the values of DeltaDirac to make the next step faster\n",
    "        deltad = np.zeros((nW,nev))\n",
    "        for n in range(nev):\n",
    "            for wi in range(nW):\n",
    "                deltad[wi,n] = DiracDelta(w[wi],DeltaEn[n,dis_rep],e2)\n",
    "\n",
    "        for q in range(nQ):                \n",
    "            for wi in range(nW):\n",
    "                #mid_array = factorN[q,dis_rep,:]*DiracDelta(w[wi],DeltaEn[:,dis_rep],e2)\n",
    "                mid_array = factorN[q,dis_rep,:]*deltad[wi,:]\n",
    "                tmp_Sw[dis_rep,q,wi] = np.sum(mid_array)\n",
    "\n",
    "    # Save the values of Sq(w) for all the disorder realizations\n",
    "    for dis_rep in range(rep):\n",
    "        header = \"disorder realization:\" + str(dis_rep) + \"\\n\"+\"        w                 Sw\"\n",
    "        np.savetxt(path2OUTdata + '/Sq/Sq_' + str(dis_rep) + '.csv', np.c_[w,tmp_Sw[dis_rep,:,:].T], header=header, fmt='%16.13e', delimiter=' ',)"
   ]
  },
  {
   "cell_type": "code",
   "execution_count": null,
   "metadata": {},
   "outputs": [],
   "source": [
    "if read == False:\n",
    "    # Compute average over disorder realizations\n",
    "    Sw = np.sum(tmp_Sw, axis=0)\n",
    "    Sw *= 2*pi\n",
    "    Sw /= rep\n",
    "    Sw = Sw.T"
   ]
  },
  {
   "cell_type": "markdown",
   "metadata": {},
   "source": [
    "#### 3. Write in file"
   ]
  },
  {
   "cell_type": "code",
   "execution_count": null,
   "metadata": {},
   "outputs": [],
   "source": [
    "if read == False:\n",
    "    header = \"        w                 Sw\"\n",
    "    np.savetxt(path2OUTdata + 'Sq.csv', np.c_[w,Sw], header=header, fmt='%16.13e', delimiter=' ',)      "
   ]
  },
  {
   "cell_type": "markdown",
   "metadata": {},
   "source": [
    "#### 3. Read Sq(w) from file"
   ]
  },
  {
   "cell_type": "code",
   "execution_count": null,
   "metadata": {},
   "outputs": [],
   "source": [
    "if read == True:\n",
    "    with open(path2INdata + 'Sq.csv') as csvfile:\n",
    "            tmp_read_Sw = np.genfromtxt(csvfile)\n",
    "    Sw = tmp_read_Sw[:,1:]\n",
    "\n",
    "    for dis_rep in range(rep):\n",
    "        with open(path2INdata + 'Sq/Sq_' + str(dis_rep) + '.csv') as dis_csvfile:\n",
    "            tmp_read_Sw_dis = np.genfromtxt(dis_csvfile)\n",
    "        tmp_Sw[dis_rep,:,:] = tmp_read_Sw_dis[:,1:].T"
   ]
  },
  {
   "cell_type": "markdown",
   "metadata": {},
   "source": [
    "### Check convergibility"
   ]
  },
  {
   "cell_type": "code",
   "execution_count": null,
   "metadata": {},
   "outputs": [],
   "source": [
    "# One should obtain a Gaussian profile when doing a histogram of the Sq(w) values, for a particular q and w values\n",
    "which_w = 700\n",
    "\n",
    "fig, ax = plt.subplots(1,1,gridspec_kw={'wspace':0.5, 'hspace': 0.5}, figsize=(7,5))\n",
    "fig.suptitle(\"Histogram of disorder realizations N = \" + str(nspins), fontsize=10)\n",
    "ax.set_ylabel(\"Disorder realizations\")\n",
    "\n",
    "hist, bins, patches = ax.hist(tmp_Sw[:,10,which_w],bins=32,density=True,label=\"data\")\n",
    "\n",
    "# Fit the distribution\n",
    "mean, var = scipy.stats.norm.fit(tmp_Sw[:,10,which_w])\n",
    "x = np.linspace(bins[0],bins[32],100)\n",
    "p = scipy.stats.norm.pdf(x,mean,var)\n",
    "ax.plot(x,p,'k',label='fit-gauss',color='b')\n",
    "\n",
    "mean2, std2 = scipy.stats.cauchy.fit(tmp_Sw[:,10,which_w])\n",
    "x2 = np.linspace(bins[0],bins[32],100)\n",
    "p2 = scipy.stats.cauchy.pdf(x2,mean2,std2)\n",
    "ax.plot(x2,p2,'k',label='fit-cauchy',color='g')\n",
    "ax.legend()\n",
    "\n",
    "#mean3, std3 = scipy.stats.exponnorm.fit(tmp_Sw[:,10,which_w])\n",
    "#x3 = np.linspace(bins[0],bins[32],100)\n",
    "#p3 = scipy.stats.exponnorm.pdf(x3,mean3,std3)\n",
    "#ax.plot(x3,p3,'k',label='fit-expon',color='r')\n",
    "\n",
    "#plt.text(0.3,20,'mean: {:2.4f}'.format(meanAF) + '\\n' + 'std: {:2.4f}'.format(m.sqrt(stdAF).real))"
   ]
  },
  {
   "cell_type": "code",
   "execution_count": null,
   "metadata": {},
   "outputs": [],
   "source": [
    "# For a particular w and q values, plot Sq(w) values for different amounts of disorder realizations averaged\n",
    "check_Sw = np.zeros((rep,nQ,nW))\n",
    "for dis_rep in range(rep):\n",
    "    check_Sw[dis_rep,:,:] = check_Sw[dis_rep-1,:,:] + tmp_Sw[dis_rep,:,:]\n",
    "\n",
    "e_msg = \"Steps do not match\"\n",
    "for wi in range(nW):\n",
    "    assert (check_Sw[1,10,wi]-tmp_Sw[0,10,wi]-tmp_Sw[1,10,wi])<1e-15, e_msg\n",
    "    assert (check_Sw[999,10,wi]*2*pi/rep-Sw[wi,10])<1e-13, e_msg\n",
    "\n",
    "check_Sw *= 2*pi\n",
    "\n",
    "print(check_Sw[999,10,:].shape, Sw[:,10].shape)\n",
    "for dis_rep in range(1,rep):\n",
    "    check_Sw[dis_rep,:,:] /= (dis_rep+1)\n",
    "\n",
    "for wi in range(nW):\n",
    "    assert (check_Sw[999,10,wi]-Sw[wi,10])<1e-13, e_msg\n",
    "    \n",
    "# Plot the cummulative values\n",
    "d = np.linspace(0,rep-1,rep)\n",
    "plt.plot(d,check_Sw[:,10,2345])"
   ]
  },
  {
   "cell_type": "code",
   "execution_count": null,
   "metadata": {},
   "outputs": [],
   "source": [
    "if False:\n",
    "    # Maximum value over all Sq(w)\n",
    "    max = 0\n",
    "    for dis_rep in range(rep):\n",
    "        tmp_max = tmp_Sw[:,10,:].max()\n",
    "        if tmp_max >= max:\n",
    "            max = tmp_max\n",
    "\n",
    "    # disorder values for plotting\n",
    "    d = np.linspace(0,rep-1,rep)\n",
    "\n",
    "    # Prepare data for 3D plot\n",
    "    verts = []\n",
    "    for dis_rep in range(rep):\n",
    "        verts.append(list(zip(w,tmp_Sw[dis_rep,10,:])))\n",
    "\n",
    "    # Set colors\n",
    "    fc = []\n",
    "    for dis_rep in range(rep):\n",
    "        fc.append(((dis_rep%10)*0.1+0.09, (dis_rep%10)*0.1+0.1, (dis_rep%10)*0.1+0.08))\n",
    "\n",
    "    # Define the 3D plot\n",
    "    poly = PolyCollection(verts, facecolors = fc)\n",
    "    poly.set_alpha(0.7)\n",
    "\n",
    "    fig2 = plt.figure(figsize=(20,20))\n",
    "    ax2  = fig2.add_subplot(111, projection='3d') \n",
    "    ax2.add_collection3d(poly, zs=d, zdir='y')\n",
    "\n",
    "    # Plot details\n",
    "    ax2.set_title('Sq(w) for q=10', fontsize=30)\n",
    "    ax2.ticklabel_format(axis='z', style='sci', scilimits=(0,0))\n",
    "\n",
    "    ax2.set_xlim3d(w.min(), w.max())\n",
    "    ax2.set_xlabel('w')\n",
    "    ax2.set_ylim3d(0,rep)\n",
    "    ax2.set_ylabel('dis realization')\n",
    "    #ax2.set_yticks(np.arange(0,rep,1))\n",
    "    ax2.set_zlim3d(tmp_Sw[:,10,:].min(), max)\n",
    "    ax2.set_zlabel('Sq(w)')\n",
    "\n",
    "    plt.show()"
   ]
  },
  {
   "cell_type": "markdown",
   "metadata": {},
   "source": [
    "### Plot"
   ]
  },
  {
   "cell_type": "markdown",
   "metadata": {},
   "source": [
    "#### 1. Plot for every q separately"
   ]
  },
  {
   "cell_type": "code",
   "execution_count": null,
   "metadata": {},
   "outputs": [],
   "source": [
    "# Plot 1D chain lattices\n",
    "subsX = nQ//4\n",
    "subsY = 4\n",
    "\n",
    "q_idxX_labl   = [(i//Ly) for i in q_idx]\n",
    "q_idxY_labl   = [(i%Ly) for i in q_idx]\n",
    "\n",
    "print(subsX, subsY)\n",
    "\n",
    "fig, ax = plt.subplots(subsX, subsY, gridspec_kw={'wspace':0.5, 'hspace': 0.5}, figsize=(20,20))\n",
    "fig.suptitle(\"Dynamical Structure Factor for different q values\", fontsize=30)\n",
    "\n",
    "\n",
    "for i in range(subsX):\n",
    "    for j in range(subsY):\n",
    "        qij = i*subsY + j\n",
    "        #print(qij,q_idx[qij])\n",
    "        if qij >= nQ:\n",
    "            break\n",
    "        ax[i,j].set_title('q: ' + str(q_idx[qij]) + '--> q = (' + str(q_X[qij]) + ',' + str(q_Y[qij]) + ')')\n",
    "        ax[i,j].set_xlabel('w')\n",
    "        ax[i,j].set_ylabel('S(w)')\n",
    "        ax[i,j].ticklabel_format(axis='y', style='sci', scilimits=(0,0))\n",
    "        ax[i,j].grid()\n",
    "        ax[i,j].plot(w,Sw[:,qij])\n",
    "        \n",
    "plot_name = '/home/ale/RUNS/plots/dsf_ns' + str(nspins) + '_dis' + str(dis_strength) + '_nnn' + str(J2) + '.pdf'\n",
    "        \n",
    "fig.savefig(plot_name)"
   ]
  },
  {
   "cell_type": "code",
   "execution_count": null,
   "metadata": {},
   "outputs": [],
   "source": [
    "if dim == 2 and nspins == 32:\n",
    "    fig3, ax3 = plt.subplots(1,2,gridspec_kw={'wspace':0.5, 'hspace': 0.5}, figsize=(20,5))\n",
    "\n",
    "    ax3[0].set_title('S(w) --> LARGER peak')\n",
    "    ax3[0].set_xlabel('w')\n",
    "    ax3[0].set_ylabel('S(w)')\n",
    "    ax3[0].grid(which='both')\n",
    "    ax3[0].plot(w, Sw[:,20])\n",
    "    \n",
    "    ax3[1].set_title('S(w) --> OTHER peaks -- ZOOM IN')\n",
    "    ax3[1].set_xlabel('w')\n",
    "    ax3[1].set_ylabel('S(w)')\n",
    "    ax3[1].grid(which='both')\n",
    "    ax3[1].plot(w[1000:2000], Sw[1000:2000,20])"
   ]
  },
  {
   "cell_type": "code",
   "execution_count": null,
   "metadata": {
    "scrolled": true
   },
   "outputs": [],
   "source": [
    "if dim == 2 and nspins == 16:\n",
    "    fig3, ax3 = plt.subplots(1,2,gridspec_kw={'wspace':0.5, 'hspace': 0.5}, figsize=(20,5))\n",
    "\n",
    "    ax3[0].set_title('S(w) for q=10 --> LARGER peak')\n",
    "    ax3[0].set_xlabel('w')\n",
    "    ax3[0].set_ylabel('S(w)')\n",
    "    ax3[0].grid()\n",
    "    ax3[0].plot(w, Sw[:,10])\n",
    "\n",
    "    ax3[1].set_title('S(w) for q=10 --> SMALLER peak')\n",
    "    ax3[1].set_xlabel('w')\n",
    "    ax3[1].set_ylabel('S(w)')\n",
    "    ax3[1].grid()\n",
    "    ax3[1].plot(w[4000:5000],Sw[4000:5000,10])"
   ]
  },
  {
   "cell_type": "code",
   "execution_count": null,
   "metadata": {},
   "outputs": [],
   "source": [
    "if dim == 2 and nspins == 16:\n",
    "    # For (pi,pi) --> q=10 check the ratio between peaks\n",
    "    max1 = np.argmax(Sw,axis=0)[10]\n",
    "    max2 = np.argpartition(Sw[4000:5000,10],-1)[-1:]\n",
    "    \n",
    "    ratio = Sw[max1,10]/Sw[4000+max2[0],10]\n",
    "    print('Ratio between larget peak and smaller one:', ratio)\n",
    "    print('Approx ratio from literature (Chen,Schuttler PhysRevB1989):', 15.4/0.174)\n",
    "    #print(max1, max2)\n",
    "    #print(Sw[579,10])\n",
    "    #print(Sw[4000+max2[0],10])"
   ]
  },
  {
   "cell_type": "markdown",
   "metadata": {},
   "source": [
    "#### 2. Plot all q values together"
   ]
  },
  {
   "cell_type": "code",
   "execution_count": null,
   "metadata": {},
   "outputs": [],
   "source": [
    "# Maximum value over all Sq(w)\n",
    "max = 0\n",
    "for qi in range(nQ):\n",
    "    tmp_max = Sw[:,qi].max()\n",
    "    if tmp_max >= max:\n",
    "        max = tmp_max\n",
    "\n",
    "# q values for plotting\n",
    "q = np.linspace(0,nQ-1,nQ)\n",
    "\n",
    "# Prepare data for 3D plot\n",
    "verts = []\n",
    "for qi in range(nQ):\n",
    "    verts.append(list(zip(w,Sw[:,qi])))\n",
    "\n",
    "# Set colors\n",
    "fc = []\n",
    "for qi in range(nQ):\n",
    "    fc.append(((qi%10)*0.1+0.09, (qi%10)*0.1+0.1, (qi%10)*0.1+0.08))\n",
    "\n",
    "# Define the 3D plot\n",
    "poly = PolyCollection(verts, facecolors = fc)\n",
    "poly.set_alpha(0.7)\n",
    "\n",
    "fig2 = plt.figure(figsize=(20,20))\n",
    "ax2  = fig2.add_subplot(111, projection='3d')\n",
    "ax2.add_collection3d(poly, zs=q, zdir='y')\n",
    "\n",
    "# Plot details\n",
    "ax2.set_title('Dynamical Structure Factor', fontsize=30)\n",
    "ax2.ticklabel_format(axis='z', style='sci', scilimits=(0,0))\n",
    "\n",
    "ax2.set_xlim3d(w.min(), w.max())\n",
    "ax2.set_xlabel('w')\n",
    "ax2.set_ylim3d(q.min(), q.max())\n",
    "ax2.set_ylabel('q')\n",
    "ax2.set_yticks(np.arange(0,nQ,1))\n",
    "ax2.set_zlim3d(Sw[:,2].min(), max)\n",
    "ax2.set_zlabel('Sq(w)')\n",
    "\n",
    "plt.show()"
   ]
  },
  {
   "cell_type": "markdown",
   "metadata": {},
   "source": [
    "### Checks"
   ]
  },
  {
   "cell_type": "markdown",
   "metadata": {},
   "source": [
    "##### 1. Sum rule: $ \\sum_{\\vec{q}} \\int \\frac{d\\omega}{2\\pi} S^{\\gamma}_{\\vec{q}}(\\omega) = \\frac{1}{4} \n",
    "\\rightarrow \n",
    "\\frac{\\Delta\\omega}{2\\pi} \\sum_{\\vec{q}} \\sum_i^{nW} S^{\\gamma}_{\\vec{q}}(\\omega_i) = \\frac{1}{4}$"
   ]
  },
  {
   "cell_type": "code",
   "execution_count": null,
   "metadata": {},
   "outputs": [],
   "source": [
    "sum_rule = np.sum(Sw) * delta_w / (2*pi)\n",
    "e_msg = \"Sum rule does not match: sum_rule = \" + str(sum_rule)\n",
    "assert abs(sum_rule - 0.25)<0.01, e_msg\n",
    "print('Sum rule: ', sum_rule)"
   ]
  },
  {
   "cell_type": "markdown",
   "metadata": {},
   "source": [
    "#### 2. Dispersion relationship (ONLY FOR 1D)"
   ]
  },
  {
   "cell_type": "code",
   "execution_count": null,
   "metadata": {},
   "outputs": [],
   "source": [
    "if dim == 1:\n",
    "    # Get the positions of the highest peak for each q\n",
    "    disp_w = np.argmax(Sw,axis=0)\n",
    "\n",
    "    disp_fig, disp_ax = plt.subplots()\n",
    "\n",
    "    # Plot dispersion along y axis\n",
    "    #x0 = 2\n",
    "    #q_y = np.zeros((Ly))\n",
    "    #for i in range(Ly):\n",
    "    #q_y[i] = i + x0 * Lx\n",
    "    #qy = q_y.astype(int)\n",
    "    #print(qy)\n",
    "\n",
    "    disp_ax.set_title('Dispersion w(q=2pi/L * n)')\n",
    "    disp_ax.set_ylabel('w(q)')\n",
    "    disp_ax.set_xlabel('q')\n",
    "    disp_ax.grid()\n",
    "    disp_ax.plot(q/Ly*2*pi, disp_w*delta_w)\n",
    "    disp_ax.plot(q/Ly*2*pi,pi/2*abs(np.sin(q/Ly*2*pi)))"
   ]
  },
  {
   "cell_type": "markdown",
   "metadata": {},
   "source": [
    "#### 2. Dispersion relationship (ONLY FOR 2D)"
   ]
  },
  {
   "cell_type": "code",
   "execution_count": null,
   "metadata": {},
   "outputs": [],
   "source": [
    "if dim == 2:\n",
    "    # Get the positions of the highest peak for each q\n",
    "    disp_w = np.argmax(Sw,axis=0)\n",
    "\n",
    "    disp_fig, disp_ax = plt.subplots(1,2,gridspec_kw={'wspace':0.5, 'hspace': 0.5}, figsize=(20,5))\n",
    "\n",
    "    # Plot dispersion along y axis\n",
    "    x0 = 2\n",
    "    q_y = np.zeros((Ly))\n",
    "    for i in range(Ly):\n",
    "        \n",
    "        q_y[i] = i + x0 * Lx\n",
    "        qy = q_y.astype(int)\n",
    "    print('Values of q printing (along Y):', qy)\n",
    "\n",
    "    disp_ax[0].set_title('Dispersion w(q=2pi/L * n) along Y')\n",
    "    disp_ax[0].set_ylabel('w(q)')\n",
    "    disp_ax[0].set_xlabel('q')\n",
    "    disp_ax[0].grid()\n",
    "    disp_ax[0].plot(q[0:4]/Ly*2*pi, disp_w[qy]*delta_w, label=\"data\")\n",
    "    disp_ax[0].plot(q[0:4]/Ly*2*pi,np.sqrt(4-(np.cos(x0/Lx*2*pi)+np.cos(q[0:4]/Ly*2*pi))**2), label=\"ref\")\n",
    "    disp_ax[0].legend()\n",
    "    \n",
    "    # Plot dispersion along x axis\n",
    "    y0 = 1\n",
    "    q_x = np.zeros((Lx))\n",
    "    for i in range(Lx):\n",
    "        q_x[i] = Ly * i + y0\n",
    "        qx = q_x.astype(int)\n",
    "    print('Values of q printing (along X):', qx)\n",
    "\n",
    "    disp_ax[1].set_title('Dispersion w(q=2pi/L * n) along X')\n",
    "    disp_ax[1].set_ylabel('w(q)')\n",
    "    disp_ax[1].set_xlabel('q')\n",
    "    disp_ax[1].grid()\n",
    "    disp_ax[1].plot(q[0:4]/Lx*2*pi, disp_w[qx]*delta_w, label=\"data\")\n",
    "    disp_ax[1].plot(q[0:4]/Lx*2*pi,np.sqrt(4-(np.cos(q[0:4]/Lx*2*pi)+np.cos(y0/Ly*2*pi))**2), label=\"ref\")\n",
    "    disp_ax[1].legend()"
   ]
  },
  {
   "cell_type": "code",
   "execution_count": null,
   "metadata": {},
   "outputs": [],
   "source": []
  }
 ],
 "metadata": {
  "kernelspec": {
   "display_name": "Python 3",
   "language": "python",
   "name": "python3"
  },
  "language_info": {
   "codemirror_mode": {
    "name": "ipython",
    "version": 3
   },
   "file_extension": ".py",
   "mimetype": "text/x-python",
   "name": "python",
   "nbconvert_exporter": "python",
   "pygments_lexer": "ipython3",
   "version": "3.6.5"
  }
 },
 "nbformat": 4,
 "nbformat_minor": 2
}
