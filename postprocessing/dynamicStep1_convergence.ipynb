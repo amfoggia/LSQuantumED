{
 "cells": [
  {
   "cell_type": "markdown",
   "metadata": {},
   "source": [
    "## Dynamical analysis: Convergence and Errors - Step 1\n",
    "\n",
    "We want to compute the `Dynamical Structure Factor`, which is given by\n",
    "\n",
    "$$ S_{\\vec{q}}(w) = \\sum_{n=1}^{nev} \\left| \\left\\langle \\Psi_n^X \\left| \\hat{S}_{\\vec{q}}^{\\alpha} \\right| \\Psi_0 \\right\\rangle \\right| ^2 \\delta(\\omega - (E_n^X - E_0)) $$\n",
    "\n",
    "$$ S_{\\vec{q}}(w) = \\sum_{n=1}^{nev} \\left| \\left\\langle \\Psi_n^X \\left| \\hat{S}_{\\vec{q}}^{\\alpha} \\right| \\Psi_0 \\right\\rangle \\right| ^2 \\frac{1}{\\pi} \\frac{\\epsilon^2}{(\\omega - (E_n^X - E_0))^2 + \\epsilon^2} $$\n",
    "\n",
    "Where\n",
    "\n",
    "$$ \\hat{S}_{\\vec{q}}^{\\alpha} = \\frac{1}{\\sqrt{L}} \\sum_{i = 0}^{L-1} e^{i \\vec{q} \\cdot \\vec{r}_i} \\hat{S}_i^{\\alpha} $$\n",
    "\n",
    "So, we can rewrite the DSF as:\n",
    "$$ S_{\\vec{q}}(w) = \\sum_{n=1}^{nev} \\left| \\left\\langle \\Psi_n^X \\left| \\frac{1}{\\sqrt{L}} \\sum_{i=0}^{L-1} e^{i \\vec{q} \\cdot \\vec{r}_i} \\hat{S}_i^{\\alpha} \\right| \\Psi_0 \\right\\rangle \\right| ^2 \\frac{1}{\\pi} \\frac{\\epsilon^2}{(\\omega - (E_n^X - E_0))^2 + \\epsilon^2} $$\n",
    "\n",
    "$$ S_{\\vec{q}}(w) = \\sum_{n=1}^{nev} \\left| \\frac{1}{\\sqrt{L}} \\sum_{i=0}^{L-1} e^{i \\vec{q} \\cdot \\vec{r}_i} \\left\\langle \\Psi_n^X \\left| \\hat{S}_i^{\\alpha} \\right| \\Psi_0 \\right\\rangle \\right| ^2 \\frac{1}{\\pi} \\frac{\\epsilon^2}{(\\omega - (E_n^X - E_0))^2 + \\epsilon^2} $$\n",
    "\n",
    "From the code we obtain a file with two columns: \n",
    "1. the first one, has the values of $ \\Delta_n = E_n^X -E_0 $\n",
    "2. the second one, has the values of the coefficient $ \\left\\langle \\Psi_n^X \\left| \\hat{S}_i^{\\alpha} \\right| \\Psi_0 \\right\\rangle $"
   ]
  },
  {
   "cell_type": "code",
   "execution_count": 1,
   "metadata": {},
   "outputs": [],
   "source": [
    "import numpy as np\n",
    "import cmath as m\n",
    "import matplotlib.pyplot as plt\n",
    "import csv\n",
    "import scipy.stats\n",
    "from mpl_toolkits.mplot3d import axes3d\n",
    "#%matplotlib notebook"
   ]
  },
  {
   "cell_type": "markdown",
   "metadata": {},
   "source": [
    "### Parameters"
   ]
  },
  {
   "cell_type": "code",
   "execution_count": 2,
   "metadata": {},
   "outputs": [],
   "source": [
    "# Lattice\n",
    "\n",
    "dim      = 2           # Dimension of the lattice\n",
    "nspins   = 24          # Number of spins in the system\n",
    "Lx       = 4           # Number of spins in the system in x direction\n",
    "Ly       = 6           # Number of spins in the system in y direction\n",
    "rep      = 10         # Disorder realizations\n",
    "nev      = 200         # Number of excited states used"
   ]
  },
  {
   "cell_type": "code",
   "execution_count": 3,
   "metadata": {},
   "outputs": [],
   "source": [
    "# Reciprocal lattice\n",
    "\n",
    "nQ       = nspins       # Number of q values to analyse"
   ]
  },
  {
   "cell_type": "code",
   "execution_count": 4,
   "metadata": {},
   "outputs": [],
   "source": [
    "# Hamiltonian parameters\n",
    "\n",
    "J1           = 1.0      # Nearest neighbours coupling\n",
    "D1           = 0.0      # Nearest neighbours anisotropy\n",
    "J2           = 0.40      # Next-nearest neighbours coupling\n",
    "D2           = 0.0      # Next-nearest neighbours anisotropy\n",
    "dis_strength = 1.0      # Strength of the disorder"
   ]
  },
  {
   "cell_type": "code",
   "execution_count": 5,
   "metadata": {},
   "outputs": [],
   "source": [
    "# Frequency parametes\n",
    "\n",
    "nW       = 5001         # Number of frequency values to plot\n",
    "w_min    = 0            # Minimum value of frequency to plot\n",
    "w_max    = 5            # Maximum value of frequency to plot\n",
    "epsilon  = 1.0/nspins   # Constant to compute the Dirac delta function"
   ]
  },
  {
   "cell_type": "code",
   "execution_count": 6,
   "metadata": {},
   "outputs": [],
   "source": [
    "# Files\n",
    "\n",
    "root        = '/home/ale/MAIN24/'\n",
    "\n",
    "pathINdata  = root + 'dis' + str(dis_strength) + '/' + str(nspins) + 'nnn' + \"{:2.2f}\".format(J2) + '/'\n",
    "pathOUTdata = root + 'dis' + str(dis_strength) + '/' + str(nspins) + 'nnn' + \"{:2.2f}\".format(J2) + '/'"
   ]
  },
  {
   "cell_type": "markdown",
   "metadata": {},
   "source": [
    "### 1. Read data from files"
   ]
  },
  {
   "cell_type": "code",
   "execution_count": 7,
   "metadata": {},
   "outputs": [],
   "source": [
    "tmp_Sw = np.zeros((rep,nQ,nW))\n",
    "Sw     = np.zeros((nW,nQ))\n",
    "\n",
    "with open(pathINdata + 'Sq.csv') as csvfile:\n",
    "        tmp_read_Sw = np.genfromtxt(csvfile)\n",
    "Sw = tmp_read_Sw[:,1:]\n",
    "\n",
    "for dis_rep in range(rep):\n",
    "    with open(pathINdata + 'Sq/Sq_' + str(dis_rep) + '.csv') as dis_csvfile:\n",
    "        tmp_read_Sw_dis = np.genfromtxt(dis_csvfile)\n",
    "    tmp_Sw[dis_rep,:,:] = tmp_read_Sw_dis[:,1:].T"
   ]
  },
  {
   "cell_type": "markdown",
   "metadata": {},
   "source": [
    "### 2. Check distribution of data"
   ]
  },
  {
   "cell_type": "code",
   "execution_count": 10,
   "metadata": {},
   "outputs": [
    {
     "data": {
      "image/png": "[encoded data removed]",
      "text/plain": [
       "<Figure size 432x288 with 1 Axes>"
      ]
     },
     "metadata": {},
     "output_type": "display_data"
    },
    {
     "data": {
      "text/plain": [
       "<matplotlib.legend.Legend at 0x7fdad3b6de80>"
      ]
     },
     "execution_count": 10,
     "metadata": {},
     "output_type": "execute_result"
    },
    {
     "data": {
      "image/png": "[encoded data removed]",
      "text/plain": [
       "<Figure size 432x288 with 1 Axes>"
      ]
     },
     "metadata": {},
     "output_type": "display_data"
    }
   ],
   "source": [
    "# One should obtain a Gaussian profile when doing a histogram of the Sq(w) values, for a particular q and w values\n",
    "which_w = 800\n",
    "\n",
    "hist, bins, patches = plt.hist(tmp_Sw[:,10,which_w],bins=32,density=True)\n",
    "plt.show()\n",
    "\n",
    "# Fit the distribution\n",
    "mean, var = scipy.stats.norm.fit(tmp_Sw[:,15,which_w])\n",
    "x = np.linspace(bins[0],bins[32],100)\n",
    "p = scipy.stats.norm.pdf(x,mean,var)\n",
    "plt.plot(x,p,'k',label='fit-gauss',color='b')\n",
    "\n",
    "mean2, std2 = scipy.stats.cauchy.fit(tmp_Sw[:,15,which_w])\n",
    "x2 = np.linspace(bins[0],bins[32],100)\n",
    "p2 = scipy.stats.cauchy.pdf(x2,mean2,std2)\n",
    "plt.plot(x2,p2,'k',label='fit-cauchy',color='g')\n",
    "plt.legend()\n",
    "\n",
    "#mean3, std3 = scipy.stats.exponnorm.fit(tmp_Sw[:,10,which_w])\n",
    "#x3 = np.linspace(bins[0],bins[32],100)\n",
    "#p3 = scipy.stats.exponnorm.pdf(x3,mean3,std3)\n",
    "#plt.plot(x3,p3,'k',label='fit-expon',color='r')\n",
    "#plt.legend()\n",
    "\n",
    "#plt.text(0.3,20,'mean: {:2.4f}'.format(meanAF) + '\\n' + 'std: {:2.4f}'.format(m.sqrt(stdAF).real))"
   ]
  },
  {
   "cell_type": "markdown",
   "metadata": {},
   "source": [
    "### 3. Check convergibility"
   ]
  },
  {
   "cell_type": "code",
   "execution_count": 9,
   "metadata": {},
   "outputs": [
    {
     "ename": "IndexError",
     "evalue": "index 999 is out of bounds for axis 0 with size 10",
     "output_type": "error",
     "traceback": [
      "\u001b[0;31m---------------------------------------------------------------------------\u001b[0m",
      "\u001b[0;31mIndexError\u001b[0m                                Traceback (most recent call last)",
      "\u001b[0;32m<ipython-input-9-70791aa9c350>\u001b[0m in \u001b[0;36m<module>\u001b[0;34m()\u001b[0m\n\u001b[1;32m      9\u001b[0m \u001b[0;32mfor\u001b[0m \u001b[0mwi\u001b[0m \u001b[0;32min\u001b[0m \u001b[0mrange\u001b[0m\u001b[0;34m(\u001b[0m\u001b[0mnW\u001b[0m\u001b[0;34m)\u001b[0m\u001b[0;34m:\u001b[0m\u001b[0;34m\u001b[0m\u001b[0m\n\u001b[1;32m     10\u001b[0m     \u001b[0;32massert\u001b[0m \u001b[0;34m(\u001b[0m\u001b[0mcheck_Sw\u001b[0m\u001b[0;34m[\u001b[0m\u001b[0;36m1\u001b[0m\u001b[0;34m,\u001b[0m\u001b[0;36m10\u001b[0m\u001b[0;34m,\u001b[0m\u001b[0mwi\u001b[0m\u001b[0;34m]\u001b[0m\u001b[0;34m-\u001b[0m\u001b[0mtmp_Sw\u001b[0m\u001b[0;34m[\u001b[0m\u001b[0;36m0\u001b[0m\u001b[0;34m,\u001b[0m\u001b[0;36m10\u001b[0m\u001b[0;34m,\u001b[0m\u001b[0mwi\u001b[0m\u001b[0;34m]\u001b[0m\u001b[0;34m-\u001b[0m\u001b[0mtmp_Sw\u001b[0m\u001b[0;34m[\u001b[0m\u001b[0;36m1\u001b[0m\u001b[0;34m,\u001b[0m\u001b[0;36m10\u001b[0m\u001b[0;34m,\u001b[0m\u001b[0mwi\u001b[0m\u001b[0;34m]\u001b[0m\u001b[0;34m)\u001b[0m\u001b[0;34m<\u001b[0m\u001b[0;36m1e-15\u001b[0m\u001b[0;34m,\u001b[0m \u001b[0me_msg\u001b[0m\u001b[0;34m\u001b[0m\u001b[0m\n\u001b[0;32m---> 11\u001b[0;31m     \u001b[0;32massert\u001b[0m \u001b[0;34m(\u001b[0m\u001b[0mcheck_Sw\u001b[0m\u001b[0;34m[\u001b[0m\u001b[0;36m999\u001b[0m\u001b[0;34m,\u001b[0m\u001b[0;36m10\u001b[0m\u001b[0;34m,\u001b[0m\u001b[0mwi\u001b[0m\u001b[0;34m]\u001b[0m\u001b[0;34m*\u001b[0m\u001b[0;36m2\u001b[0m\u001b[0;34m*\u001b[0m\u001b[0mpi\u001b[0m\u001b[0;34m/\u001b[0m\u001b[0mrep\u001b[0m\u001b[0;34m-\u001b[0m\u001b[0mSw\u001b[0m\u001b[0;34m[\u001b[0m\u001b[0mwi\u001b[0m\u001b[0;34m,\u001b[0m\u001b[0;36m10\u001b[0m\u001b[0;34m]\u001b[0m\u001b[0;34m)\u001b[0m\u001b[0;34m<\u001b[0m\u001b[0;36m1e-10\u001b[0m\u001b[0;34m,\u001b[0m \u001b[0me_msg\u001b[0m\u001b[0;34m\u001b[0m\u001b[0m\n\u001b[0m\u001b[1;32m     12\u001b[0m \u001b[0;34m\u001b[0m\u001b[0m\n\u001b[1;32m     13\u001b[0m \u001b[0mcheck_Sw\u001b[0m \u001b[0;34m*=\u001b[0m \u001b[0;36m2\u001b[0m\u001b[0;34m*\u001b[0m\u001b[0mpi\u001b[0m\u001b[0;34m\u001b[0m\u001b[0m\n",
      "\u001b[0;31mIndexError\u001b[0m: index 999 is out of bounds for axis 0 with size 10"
     ]
    }
   ],
   "source": [
    "# For a particular w and q values, plot Sq(w) values for different amounts of disorder realizations averaged\n",
    "pi       = np.arccos(-1)\n",
    "\n",
    "check_Sw = np.zeros((rep,nQ,nW))\n",
    "for dis_rep in range(rep):\n",
    "    check_Sw[dis_rep,:,:] = check_Sw[dis_rep-1,:,:] + tmp_Sw[dis_rep,:,:]\n",
    "    \n",
    "e_msg = \"Steps do not match\"\n",
    "for wi in range(nW):\n",
    "    assert (check_Sw[1,10,wi]-tmp_Sw[0,10,wi]-tmp_Sw[1,10,wi])<1e-15, e_msg\n",
    "    assert (check_Sw[999,10,wi]*2*pi/rep-Sw[wi,10])<1e-10, e_msg\n",
    "\n",
    "check_Sw *= 2*pi\n",
    "\n",
    "print(check_Sw[999,10,:].shape, Sw[:,10].shape)\n",
    "for dis_rep in range(1,rep):\n",
    "    check_Sw[dis_rep,:,:] /= (dis_rep+1)\n",
    "\n",
    "for wi in range(nW):\n",
    "    assert (check_Sw[999,10,wi]-Sw[wi,10])<1e-13, e_msg\n",
    "    \n",
    "# Plot the cummulative values\n",
    "d = np.linspace(0,rep-1,rep)\n",
    "plt.plot(d,check_Sw[:,10,2345])"
   ]
  }
 ],
 "metadata": {
  "kernelspec": {
   "display_name": "Python 3",
   "language": "python",
   "name": "python3"
  },
  "language_info": {
   "codemirror_mode": {
    "name": "ipython",
    "version": 3
   },
   "file_extension": ".py",
   "mimetype": "text/x-python",
   "name": "python",
   "nbconvert_exporter": "python",
   "pygments_lexer": "ipython3",
   "version": "3.6.5"
  }
 },
 "nbformat": 4,
 "nbformat_minor": 2
}
