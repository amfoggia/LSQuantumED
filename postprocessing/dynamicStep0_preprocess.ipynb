{
 "cells": [
  {
   "cell_type": "markdown",
   "metadata": {},
   "source": [
    "## Dynamical Analysis: Process DSF data - Step 0 (Possibly on the cluster)\n",
    "\n",
    "We want to compute the `Dynamical Structure Factor`, which is given by\n",
    "\n",
    "$$ S_{\\vec{q}}(w) = \\sum_{n=1}^{nev} \\left| \\left\\langle \\Psi_n^X \\left| \\hat{S}_{\\vec{q}}^{\\alpha} \\right| \\Psi_0 \\right\\rangle \\right| ^2 \\delta(\\omega - (E_n^X - E_0)) $$\n",
    "\n",
    "$$ S_{\\vec{q}}(w) = \\sum_{n=1}^{nev} \\left| \\left\\langle \\Psi_n^X \\left| \\hat{S}_{\\vec{q}}^{\\alpha} \\right| \\Psi_0 \\right\\rangle \\right| ^2 \\frac{1}{\\pi} \\frac{\\epsilon^2}{(\\omega - (E_n^X - E_0))^2 + \\epsilon^2} $$\n",
    "\n",
    "Where\n",
    "\n",
    "$$ \\hat{S}_{\\vec{q}}^{\\alpha} = \\frac{1}{\\sqrt{L}} \\sum_{i = 0}^{L-1} e^{i \\vec{q} \\cdot \\vec{r}_i} \\hat{S}_i^{\\alpha} $$\n",
    "\n",
    "So, we can rewrite the DSF as:\n",
    "$$ S_{\\vec{q}}(w) = \\sum_{n=1}^{nev} \\left| \\left\\langle \\Psi_n^X \\left| \\frac{1}{\\sqrt{L}} \\sum_{i=0}^{L-1} e^{i \\vec{q} \\cdot \\vec{r}_i} \\hat{S}_i^{\\alpha} \\right| \\Psi_0 \\right\\rangle \\right| ^2 \\frac{1}{\\pi} \\frac{\\epsilon^2}{(\\omega - (E_n^X - E_0))^2 + \\epsilon^2} $$\n",
    "\n",
    "$$ S_{\\vec{q}}(w) = \\sum_{n=1}^{nev} \\left| \\frac{1}{\\sqrt{L}} \\sum_{i=0}^{L-1} e^{i \\vec{q} \\cdot \\vec{r}_i} \\left\\langle \\Psi_n^X \\left| \\hat{S}_i^{\\alpha} \\right| \\Psi_0 \\right\\rangle \\right| ^2 \\frac{1}{\\pi} \\frac{\\epsilon^2}{(\\omega - (E_n^X - E_0))^2 + \\epsilon^2} $$\n",
    "\n",
    "From the code we obtain a file with two columns: \n",
    "1. the first one, has the values of $ \\Delta_n = E_n^X -E_0 $\n",
    "2. the second one, has the values of the coefficient $ \\left\\langle \\Psi_n^X \\left| \\hat{S}_i^{\\alpha} \\right| \\Psi_0 \\right\\rangle $"
   ]
  },
  {
   "cell_type": "code",
   "execution_count": null,
   "metadata": {},
   "outputs": [],
   "source": [
    "import numpy as np\n",
    "import cmath as m\n",
    "import csv"
   ]
  },
  {
   "cell_type": "markdown",
   "metadata": {},
   "source": [
    "### Parameters"
   ]
  },
  {
   "cell_type": "code",
   "execution_count": null,
   "metadata": {},
   "outputs": [],
   "source": [
    "# Lattice\n",
    "\n",
    "dim      = 2            # Dimension of the lattice\n",
    "nspins   = 16           # Number of spins in the system    \n",
    "Lx       = 4            # Number of spins in the system in x direction\n",
    "Ly       = 4            # Number of spins in the system in y direction\n",
    "\n",
    "r_idx    = [i for i in range(nspins)]\n",
    "r_idxX   = [i//Ly for i in r_idx]\n",
    "r_idxY   = [i%Ly for i in r_idx]\n",
    "\n",
    "rep      = 10         # Disorder realizations\n",
    "nev      = 200          # Number of excited states used"
   ]
  },
  {
   "cell_type": "code",
   "execution_count": null,
   "metadata": {},
   "outputs": [],
   "source": [
    "# Reciprocal lattice\n",
    "\n",
    "nQ       = nspins       # Number of q values to analyse\n",
    "\n",
    "pi       = np.arccos(-1)\n",
    "q_idx    = [i for i in range(nQ)]\n",
    "q_idxX   = [(i//Ly)*2*pi/Lx for i in q_idx]\n",
    "q_idxY   = [(i%Ly)*2*pi/Ly for i in q_idx]\n",
    "\n",
    "q_X      = [(i//Ly) for i in q_idx]\n",
    "q_Y      = [(i%Ly) for i in q_idx]"
   ]
  },
  {
   "cell_type": "code",
   "execution_count": null,
   "metadata": {},
   "outputs": [],
   "source": [
    "# Hamiltonian parameters\n",
    "\n",
    "J1           = 1.0      # Nearest neighbours coupling\n",
    "D1           = 1.0      # Nearest neighbours anisotropy\n",
    "J2           = 0.4      # Next-nearest neighbours coupling\n",
    "D2           = 0.4      # Next-nearest neighbours anisotropy\n",
    "dis_strength = 0.1      # Strength of the disorder"
   ]
  },
  {
   "cell_type": "code",
   "execution_count": null,
   "metadata": {},
   "outputs": [],
   "source": [
    "# Frequency parametes\n",
    "\n",
    "nW       = 5001         # Number of frequency values to plot\n",
    "w_min    = 0            # Minimum value of frequency to plot\n",
    "w_max    = 5            # Maximum value of frequency to plot\n",
    "epsilon  = 1.0/nspins   # Constant to compute the Dirac delta function"
   ]
  },
  {
   "cell_type": "code",
   "execution_count": null,
   "metadata": {},
   "outputs": [],
   "source": [
    "# Files\n",
    "\n",
    "#pathINdata  = '/tmp/RUNS/dis' + str(dis_strength) + '/' + str(nspins) + 'nnn' + str(J2) + '/'\n",
    "#pathOUTdata = '/tmp/RUNS/dis' + str(dis_strength) + '/' + str(nspins) + 'nnn' + str(J2) + '/'\n",
    "pathINdata  = '/home/ale/RUNS/dis' + str(dis_strength) + '/' + str(nspins) + 'nnn' + str(J2) + '/'\n",
    "pathOUTdata = '/home/ale/RUNS/dis' + str(dis_strength) + '/' + str(nspins) + 'nnn' + str(J2) + '/'"
   ]
  },
  {
   "cell_type": "markdown",
   "metadata": {},
   "source": [
    "### 1. Read data from files"
   ]
  },
  {
   "cell_type": "code",
   "execution_count": null,
   "metadata": {},
   "outputs": [],
   "source": [
    "# DeltaEn and factorN have the values of (En-E0) and the preceeding factor of the DSF\n",
    "DeltaEn = np.empty((nev,rep))\n",
    "factorNSPIN = np.empty((nev*nspins,rep))\n",
    "\n",
    "# Loop over disorder realizations\n",
    "for dis_rep in range(rep):\n",
    "    \n",
    "    # Loop over excited states\n",
    "    with open(pathINdata + 'dsf_d' + str(dis_rep) + '_ns' + str(nspins) + '_nev' + str(nev) + '.dat') as INfile:\n",
    "    #with open(path2INdata + 'dsf_NODISORDER' + '_ns' + str(nspins) + '_nev' + str(nev) + '.dat') as INfile:\n",
    "        array = np.genfromtxt(INfile)\n",
    "        tmp_DeltaEn, tmp_factorN = array.T\n",
    "            \n",
    "    \n",
    "    DeltaEn[:,dis_rep] = tmp_DeltaEn[0:nev]\n",
    "    factorNSPIN[:,dis_rep] = tmp_factorN"
   ]
  },
  {
   "cell_type": "markdown",
   "metadata": {},
   "source": [
    "### 2. Sum over lattice sites\n",
    "\n",
    "So, basically, one has to do the part:\n",
    "\n",
    "$$ \\frac{1}{\\sqrt{L}} \\sum_{i=0}^{L-1} e^{i \\vec{q} \\cdot \\vec{r}_i} \\left\\langle \\Psi_n^X \\left| \\hat{S}_i^{\\alpha} \\right| \\Psi_0 \\right\\rangle $$"
   ]
  },
  {
   "cell_type": "code",
   "execution_count": null,
   "metadata": {},
   "outputs": [],
   "source": [
    "# Funtion to compute the Dirac delta\n",
    "\n",
    "e2     = epsilon*epsilon\n",
    "pi     = np.arccos(-1)\n",
    "inv_pi = 1.0/pi\n",
    "\n",
    "def DiracDelta(w,deltaEn,e2):\n",
    "    return inv_pi*e2/(e2 + (w-deltaEn)*(w-deltaEn))"
   ]
  },
  {
   "cell_type": "code",
   "execution_count": null,
   "metadata": {},
   "outputs": [],
   "source": [
    "# Compute the exponential coefficient\n",
    "\n",
    "expCoeff = np.empty((nQ,nspins),dtype=np.complex)\n",
    "\n",
    "for q in range(nQ):\n",
    "    for spin in range(nspins):\n",
    "        coeff = q_idxX[q]*r_idxX[spin] + q_idxY[q]*r_idxY[spin]\n",
    "        expCoeff[q,spin] = m.exp(1j*coeff)"
   ]
  },
  {
   "cell_type": "code",
   "execution_count": null,
   "metadata": {},
   "outputs": [],
   "source": [
    "# Sum over the spins\n",
    "\n",
    "factorN_cplx = np.zeros((nQ,rep,nev),dtype=np.complex)\n",
    "\n",
    "for q in range(nQ):\n",
    "    for n in range(nev):\n",
    "        for i in range(nspins):\n",
    "            offset = i * nev\n",
    "            factorN_cplx[q,:,n] = factorN_cplx[q,:,n] + expCoeff[q,i]*factorNSPIN[n+offset,:]\n",
    "\n",
    "factorN = np.empty((nQ,rep,nev))\n",
    "factorN[:,:,:] = abs(factorN_cplx[:,:,:])**2/nspins"
   ]
  },
  {
   "cell_type": "markdown",
   "metadata": {},
   "source": [
    "### 3. Sum over eigenstates"
   ]
  },
  {
   "cell_type": "code",
   "execution_count": null,
   "metadata": {},
   "outputs": [],
   "source": [
    "# Sum over the eigenstates (multiplying by the Dirac delta)\n",
    "\n",
    "tmp_Sw = np.zeros((rep,nQ,nW))\n",
    "w  = np.linspace(w_min,w_max,nW)\n",
    "\n",
    "for dis_rep in range(rep):\n",
    "\n",
    "    # Compute the values of DeltaDirac to make the next step faster\n",
    "    deltad = np.zeros((nW,nev))\n",
    "    for n in range(nev):\n",
    "        for wi in range(nW):\n",
    "            deltad[wi,n] = DiracDelta(w[wi],DeltaEn[n,dis_rep],e2)\n",
    "\n",
    "    for q in range(nQ):                \n",
    "        for wi in range(nW):\n",
    "            mid_array = factorN[q,dis_rep,:]*deltad[wi,:]\n",
    "            tmp_Sw[dis_rep,q,wi] = np.sum(mid_array)\n",
    "\n",
    "# Save the values of Sq(w) for all the disorder realizations\n",
    "for dis_rep in range(rep):\n",
    "    header = \"disorder realization:\" + str(dis_rep) + \"\\n\"+\"        w                 Sw\"\n",
    "    np.savetxt(pathOUTdata + '/Sq/Sq_' + str(dis_rep) + '.csv', np.c_[w,tmp_Sw[dis_rep,:,:].T], header=header, fmt='%16.13e', delimiter=' ',)"
   ]
  },
  {
   "cell_type": "markdown",
   "metadata": {},
   "source": [
    "### 4. Average over disorder realizations"
   ]
  },
  {
   "cell_type": "code",
   "execution_count": null,
   "metadata": {},
   "outputs": [],
   "source": [
    "# Compute average over disorder realizations\n",
    "\n",
    "Sw = np.zeros((nQ,nW))\n",
    "\n",
    "Sw = np.sum(tmp_Sw, axis=0)\n",
    "Sw *= 2*pi\n",
    "Sw /= rep\n",
    "Sw = Sw.T\n",
    "    \n",
    "# Save the values the dynamical structure factor\n",
    "header = \"        w                 Sw\"\n",
    "np.savetxt(pathOUTdata + 'Sq.csv', np.c_[w,Sw], header=header, fmt='%16.13e', delimiter=' ',)      "
   ]
  }
 ],
 "metadata": {
  "kernelspec": {
   "display_name": "Python 3",
   "language": "python",
   "name": "python3"
  },
  "language_info": {
   "codemirror_mode": {
    "name": "ipython",
    "version": 3
   },
   "file_extension": ".py",
   "mimetype": "text/x-python",
   "name": "python",
   "nbconvert_exporter": "python",
   "pygments_lexer": "ipython3",
   "version": "3.6.5"
  }
 },
 "nbformat": 4,
 "nbformat_minor": 2
}
