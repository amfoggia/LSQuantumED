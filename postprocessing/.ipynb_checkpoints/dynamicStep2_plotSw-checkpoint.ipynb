{
 "cells": [
  {
   "cell_type": "markdown",
   "metadata": {},
   "source": [
    "## Dynamical analysis: Check accuracy of data and plot DSF - Step 2\n",
    "\n",
    "We want to compute the `Dynamical Structure Factor`, which is given by\n",
    "\n",
    "$$ S_{\\vec{q}}(w) = \\sum_{n=1}^{nev} \\left| \\left\\langle \\Psi_n^X \\left| \\hat{S}_{\\vec{q}}^{\\alpha} \\right| \\Psi_0 \\right\\rangle \\right| ^2 \\delta(\\omega - (E_n^X - E_0)) $$\n",
    "\n",
    "$$ S_{\\vec{q}}(w) = \\sum_{n=1}^{nev} \\left| \\left\\langle \\Psi_n^X \\left| \\hat{S}_{\\vec{q}}^{\\alpha} \\right| \\Psi_0 \\right\\rangle \\right| ^2 \\frac{1}{\\pi} \\frac{\\epsilon^2}{(\\omega - (E_n^X - E_0))^2 + \\epsilon^2} $$\n",
    "\n",
    "Where\n",
    "\n",
    "$$ \\hat{S}_{\\vec{q}}^{\\alpha} = \\frac{1}{\\sqrt{L}} \\sum_{i = 0}^{L-1} e^{i \\vec{q} \\cdot \\vec{r}_i} \\hat{S}_i^{\\alpha} $$\n",
    "\n",
    "So, we can rewrite the DSF as:\n",
    "$$ S_{\\vec{q}}(w) = \\sum_{n=1}^{nev} \\left| \\left\\langle \\Psi_n^X \\left| \\frac{1}{\\sqrt{L}} \\sum_{i=0}^{L-1} e^{i \\vec{q} \\cdot \\vec{r}_i} \\hat{S}_i^{\\alpha} \\right| \\Psi_0 \\right\\rangle \\right| ^2 \\frac{1}{\\pi} \\frac{\\epsilon^2}{(\\omega - (E_n^X - E_0))^2 + \\epsilon^2} $$\n",
    "\n",
    "$$ S_{\\vec{q}}(w) = \\sum_{n=1}^{nev} \\left| \\frac{1}{\\sqrt{L}} \\sum_{i=0}^{L-1} e^{i \\vec{q} \\cdot \\vec{r}_i} \\left\\langle \\Psi_n^X \\left| \\hat{S}_i^{\\alpha} \\right| \\Psi_0 \\right\\rangle \\right| ^2 \\frac{1}{\\pi} \\frac{\\epsilon^2}{(\\omega - (E_n^X - E_0))^2 + \\epsilon^2} $$\n",
    "\n",
    "From the code we obtain a file with two columns: \n",
    "1. the first one, has the values of $ \\Delta_n = E_n^X -E_0 $\n",
    "2. the second one, has the values of the coefficient $ \\left\\langle \\Psi_n^X \\left| \\hat{S}_i^{\\alpha} \\right| \\Psi_0 \\right\\rangle $"
   ]
  },
  {
   "cell_type": "code",
   "execution_count": null,
   "metadata": {},
   "outputs": [],
   "source": [
    "import numpy as np\n",
    "import cmath as m\n",
    "import matplotlib.pyplot as plt\n",
    "import csv\n",
    "from mpl_toolkits.mplot3d import axes3d\n",
    "from matplotlib.collections import PolyCollection\n",
    "#%matplotlib notebook"
   ]
  },
  {
   "cell_type": "markdown",
   "metadata": {},
   "source": [
    "### Parameters"
   ]
  },
  {
   "cell_type": "code",
   "execution_count": null,
   "metadata": {},
   "outputs": [],
   "source": [
    "# Lattice\n",
    "\n",
    "dim      = 2       # Dimension of the lattice\n",
    "nspins   = 24      # Number of spins in the system\n",
    "\n",
    "Lx       = 4       # Number of spins in the system in x direction\n",
    "Ly       = 6       # Number of spins in the system in y direction\n",
    "\n",
    "rep      = 10     # Disorder realizations\n",
    "nev      = 200     # Number of excited states used"
   ]
  },
  {
   "cell_type": "code",
   "execution_count": null,
   "metadata": {},
   "outputs": [],
   "source": [
    "# Reciprocal lattice\n",
    "\n",
    "nQ       = nspins  # Number of q values to analyse\n",
    "\n",
    "pi       = np.arccos(-1)\n",
    "q_idx    = [i for i in range(nQ)]\n",
    "q_idxX   = [(i//Ly)*2*pi/Lx for i in q_idx]\n",
    "q_idxY   = [(i%Ly)*2*pi/Ly for i in q_idx]\n",
    "\n",
    "q_X      = [(i//Ly) for i in q_idx]\n",
    "q_Y      = [(i%Ly) for i in q_idx]"
   ]
  },
  {
   "cell_type": "code",
   "execution_count": null,
   "metadata": {},
   "outputs": [],
   "source": [
    "# Hamiltonian parameters\n",
    "\n",
    "J1           = 1.0      # Nearest neighbours coupling\n",
    "D1           = 0.0      # Nearest neighbours anisotropy\n",
    "J2           = 0.40     # Next-nearest neighbours coupling\n",
    "D2           = 0.0      # Next-nearest neighbours anisotropy\n",
    "dis_strength = 1.0      # Strength of the disorder"
   ]
  },
  {
   "cell_type": "code",
   "execution_count": null,
   "metadata": {},
   "outputs": [],
   "source": [
    "# Frequency parametes\n",
    "\n",
    "nW       = 5001         # Number of frequency values to plot\n",
    "w_min    = 0            # Minimum value of frequency to plot\n",
    "w_max    = 5            # Maximum value of frequency to plot\n",
    "epsilon  = 1.0/nspins   # Constant to compute the Dirac delta function"
   ]
  },
  {
   "cell_type": "code",
   "execution_count": null,
   "metadata": {},
   "outputs": [],
   "source": [
    "# Files\n",
    "\n",
    "root        = '/home/ale/MAIN24/'\n",
    "\n",
    "pathINdata  = root + 'dis' + str(dis_strength) + '/' + str(nspins) + 'nnn' + \"{:2.2f}\".format(J2) + '/'\n",
    "pathOUTdata = root + 'dis' + str(dis_strength) + '/' + str(nspins) + 'nnn' + \"{:2.2f}\".format(J2) + '/'"
   ]
  },
  {
   "cell_type": "markdown",
   "metadata": {},
   "source": [
    "### 1. Read data from file"
   ]
  },
  {
   "cell_type": "code",
   "execution_count": null,
   "metadata": {},
   "outputs": [],
   "source": [
    "Sw = np.zeros((nW,nQ))\n",
    "\n",
    "with open(pathINdata + 'Sq.csv') as csvfile:\n",
    "        tmp_read_Sw = np.genfromtxt(csvfile)\n",
    "Sw = tmp_read_Sw[:,1:]"
   ]
  },
  {
   "cell_type": "markdown",
   "metadata": {},
   "source": [
    "### 2. Checks"
   ]
  },
  {
   "cell_type": "markdown",
   "metadata": {},
   "source": [
    "#### 2a. Sum rule: $ \\sum_{\\vec{q}} \\int \\frac{d\\omega}{2\\pi} S^{\\gamma}_{\\vec{q}}(\\omega) = \\frac{1}{4} \n",
    "\\rightarrow \n",
    "\\frac{\\Delta\\omega}{2\\pi} \\sum_{\\vec{q}} \\sum_i^{nW} S^{\\gamma}_{\\vec{q}}(\\omega_i) = \\frac{1}{4}$"
   ]
  },
  {
   "cell_type": "code",
   "execution_count": null,
   "metadata": {},
   "outputs": [],
   "source": [
    "delta_w  = (w_max - w_min)/(nW - 1)\n",
    "sum_rule = np.sum(Sw) * delta_w / (2*pi)\n",
    "e_msg = \"Sum rule does not match: sum_rule = \" + str(sum_rule)\n",
    "if abs(sum_rule - 0.25) >= 0.01:\n",
    "    print(\"WARNING!!\")\n",
    "    print(e_msg)\n",
    "#assert abs(sum_rule - 0.25)<0.01, e_msg"
   ]
  },
  {
   "cell_type": "markdown",
   "metadata": {},
   "source": [
    "#### 2b. Dispersion relationship (ONLY FOR 1D)"
   ]
  },
  {
   "cell_type": "code",
   "execution_count": null,
   "metadata": {},
   "outputs": [],
   "source": [
    "if dim == 1:\n",
    "    # Get the positions of the highest peak for each q\n",
    "    disp_w = np.argmax(Sw,axis=0)\n",
    "\n",
    "    disp_fig, disp_ax = plt.subplots()\n",
    "\n",
    "    # Plot dispersion along y axis\n",
    "    #x0 = 2\n",
    "    #q_y = np.zeros((Ly))\n",
    "    #for i in range(Ly):\n",
    "    #q_y[i] = i + x0 * Lx\n",
    "    #qy = q_y.astype(int)\n",
    "    #print(qy)\n",
    "\n",
    "    disp_ax.set_title('Dispersion w(q=2pi/L * n)')\n",
    "    disp_ax.set_ylabel('w(q)')\n",
    "    disp_ax.set_xlabel('q')\n",
    "    disp_ax.grid()\n",
    "    disp_ax.plot(q/Ly*2*pi, disp_w*delta_w)\n",
    "    disp_ax.plot(q/Ly*2*pi,pi/2*abs(np.sin(q/Ly*2*pi)))"
   ]
  },
  {
   "cell_type": "markdown",
   "metadata": {},
   "source": [
    "#### 2b. Dispersion relationship (ONLY FOR 2D)"
   ]
  },
  {
   "cell_type": "code",
   "execution_count": null,
   "metadata": {},
   "outputs": [],
   "source": [
    "if dim == 2 and nspins == 16:\n",
    "    # Get the positions of the highest peak for each q\n",
    "    disp_w = np.argmax(Sw,axis=0)\n",
    "    \n",
    "    # q values for plotting\n",
    "    q = np.linspace(0,nQ-1,nQ)\n",
    "\n",
    "    disp_fig, disp_ax = plt.subplots(1,2,gridspec_kw={'wspace':0.5, 'hspace': 0.5}, figsize=(20,5))\n",
    "\n",
    "    # Plot dispersion along y axis\n",
    "    x0 = 2\n",
    "    q_y = np.zeros((Ly))\n",
    "    for i in range(Ly):\n",
    "        \n",
    "        q_y[i] = i + x0 * Lx\n",
    "        qy = q_y.astype(int)\n",
    "    print('Values of q printing (along Y):', qy)\n",
    "\n",
    "    disp_ax[0].set_title('Dispersion w(q=2pi/L * n) along Y')\n",
    "    disp_ax[0].set_ylabel('w(q)')\n",
    "    disp_ax[0].set_xlabel('q')\n",
    "    disp_ax[0].grid()\n",
    "    disp_ax[0].plot(q[0:4]/Ly*2*pi, disp_w[qy]*delta_w, label=\"data\")\n",
    "    disp_ax[0].plot(q[0:4]/Ly*2*pi,np.sqrt(4-(np.cos(x0/Lx*2*pi)+np.cos(q[0:4]/Ly*2*pi))**2), label=\"ref\")\n",
    "    disp_ax[0].legend()\n",
    "    \n",
    "    # Plot dispersion along x axis\n",
    "    y0 = 1\n",
    "    q_x = np.zeros((Lx))\n",
    "    for i in range(Lx):\n",
    "        q_x[i] = Ly * i + y0\n",
    "        qx = q_x.astype(int)\n",
    "    print('Values of q printing (along X):', qx)\n",
    "\n",
    "    disp_ax[1].set_title('Dispersion w(q=2pi/L * n) along X')\n",
    "    disp_ax[1].set_ylabel('w(q)')\n",
    "    disp_ax[1].set_xlabel('q')\n",
    "    disp_ax[1].grid()\n",
    "    disp_ax[1].plot(q[0:4]/Lx*2*pi, disp_w[qx]*delta_w, label=\"data\")\n",
    "    disp_ax[1].plot(q[0:4]/Lx*2*pi,np.sqrt(4-(np.cos(q[0:4]/Lx*2*pi)+np.cos(y0/Ly*2*pi))**2), label=\"ref\")\n",
    "    disp_ax[1].legend()"
   ]
  },
  {
   "cell_type": "markdown",
   "metadata": {},
   "source": [
    "### 3. Plot for every q separately"
   ]
  },
  {
   "cell_type": "code",
   "execution_count": null,
   "metadata": {},
   "outputs": [],
   "source": [
    "# Plot 1D chain lattices\n",
    "subsX = nQ//4\n",
    "subsY = 4\n",
    "\n",
    "w  = np.linspace(w_min,w_max,nW)\n",
    "\n",
    "q_idxX_labl   = [(i//Ly) for i in q_idx]\n",
    "q_idxY_labl   = [(i%Ly) for i in q_idx]\n",
    "\n",
    "fig, ax = plt.subplots(subsX, subsY, gridspec_kw={'wspace':0.5, 'hspace': 0.5}, figsize=(20,20))\n",
    "fig.suptitle(\"Dynamical Structure Factor for different q values\", fontsize=30)\n",
    "\n",
    "\n",
    "for i in range(subsX):\n",
    "    for j in range(subsY):\n",
    "        qij = i*subsY + j\n",
    "        if qij >= nQ:\n",
    "            break\n",
    "        ax[i,j].set_title('q: ' + str(q_idx[qij]) + '--> q = (' + str(q_X[qij]) + ',' + str(q_Y[qij]) + ')')\n",
    "        ax[i,j].set_xlabel('w')\n",
    "        ax[i,j].set_ylabel('S(w)')\n",
    "        ax[i,j].ticklabel_format(axis='y', style='sci', scilimits=(0,0))\n",
    "        ax[i,j].grid()\n",
    "        ax[i,j].plot(w,Sw[:,qij])\n",
    "        \n",
    "plot_name = root + 'plots/dsf_ns' + str(nspins) + '_dis' + str(dis_strength) + '_nnn' + str(J2) + '.pdf'\n",
    "        \n",
    "fig.savefig(plot_name)"
   ]
  },
  {
   "cell_type": "code",
   "execution_count": null,
   "metadata": {},
   "outputs": [],
   "source": [
    "if dim == 2 and nspins == 32:\n",
    "    fig3, ax3 = plt.subplots(1,2,gridspec_kw={'wspace':0.5, 'hspace': 0.5}, figsize=(20,5))\n",
    "\n",
    "    ax3[0].set_title('S(w) --> LARGER peak')\n",
    "    ax3[0].set_xlabel('w')\n",
    "    ax3[0].set_ylabel('S(w)')\n",
    "    ax3[0].grid(which='both')\n",
    "    ax3[0].plot(w, Sw[:,20])\n",
    "    \n",
    "    ax3[1].set_title('S(w) --> OTHER peaks -- ZOOM IN')\n",
    "    ax3[1].set_xlabel('w')\n",
    "    ax3[1].set_ylabel('S(w)')\n",
    "    ax3[1].grid(which='both')\n",
    "    ax3[1].plot(w[1000:2000], Sw[1000:2000,20])"
   ]
  },
  {
   "cell_type": "code",
   "execution_count": null,
   "metadata": {
    "scrolled": true
   },
   "outputs": [],
   "source": [
    "if dim == 2 and nspins == 16:\n",
    "    fig3, ax3 = plt.subplots(1,2,gridspec_kw={'wspace':0.5, 'hspace': 0.5}, figsize=(20,5))\n",
    "\n",
    "    ax3[0].set_title('S(w) for q=10 --> LARGER peak')\n",
    "    ax3[0].set_xlabel('w')\n",
    "    ax3[0].set_ylabel('S(w)')\n",
    "    ax3[0].grid()\n",
    "    ax3[0].plot(w, Sw[:,10])\n",
    "\n",
    "    ax3[1].set_title('S(w) for q=10 --> SMALLER peak')\n",
    "    ax3[1].set_xlabel('w')\n",
    "    ax3[1].set_ylabel('S(w)')\n",
    "    ax3[1].grid()\n",
    "    ax3[1].plot(w[4000:5000],Sw[4000:5000,10])"
   ]
  },
  {
   "cell_type": "code",
   "execution_count": null,
   "metadata": {},
   "outputs": [],
   "source": [
    "if dim == 2 and nspins == 16:\n",
    "    # For (pi,pi) --> q=10 check the ratio between peaks\n",
    "    max1 = np.argmax(Sw,axis=0)[10]\n",
    "    max2 = np.argpartition(Sw[4000:5000,10],-1)[-1:]\n",
    "    \n",
    "    ratio = Sw[max1,10]/Sw[4000+max2[0],10]\n",
    "    print('Ratio between larget peak and smaller one:', ratio)\n",
    "    print('Approx ratio from literature (Chen,Schuttler PhysRevB1989):', 15.4/0.174)\n",
    "    #print(max1, max2)\n",
    "    #print(Sw[579,10])\n",
    "    #print(Sw[4000+max2[0],10])"
   ]
  },
  {
   "cell_type": "markdown",
   "metadata": {},
   "source": [
    "### 4. Plot all q values together"
   ]
  },
  {
   "cell_type": "code",
   "execution_count": null,
   "metadata": {},
   "outputs": [],
   "source": [
    "# Maximum value over all Sq(w)\n",
    "max = 0\n",
    "for qi in range(nQ):\n",
    "    tmp_max = Sw[:,qi].max()\n",
    "    if tmp_max >= max:\n",
    "        max = tmp_max\n",
    "\n",
    "# q values for plotting\n",
    "q = np.linspace(0,nQ-1,nQ)\n",
    "\n",
    "# Prepare data for 3D plot\n",
    "verts = []\n",
    "for qi in range(nQ):\n",
    "    verts.append(list(zip(w,Sw[:,qi])))\n",
    "\n",
    "# Set colors\n",
    "fc = []\n",
    "for qi in range(nQ):\n",
    "    fc.append(((qi%10)*0.1+0.09, (qi%10)*0.1+0.1, (qi%10)*0.1+0.08))\n",
    "\n",
    "# Define the 3D plot\n",
    "poly = PolyCollection(verts, facecolors = fc)\n",
    "poly.set_alpha(0.7)\n",
    "\n",
    "fig2 = plt.figure(figsize=(20,20))\n",
    "ax2  = fig2.add_subplot(111, projection='3d')\n",
    "ax2.add_collection3d(poly, zs=q, zdir='y')\n",
    "\n",
    "# Plot details\n",
    "ax2.set_title('Dynamical Structure Factor', fontsize=30)\n",
    "ax2.ticklabel_format(axis='z', style='sci', scilimits=(0,0))\n",
    "\n",
    "ax2.set_xlim3d(w.min(), w.max())\n",
    "ax2.set_xlabel('w')\n",
    "ax2.set_ylim3d(q.min(), q.max())\n",
    "ax2.set_ylabel('q')\n",
    "ax2.set_yticks(np.arange(0,nQ,1))\n",
    "ax2.set_zlim3d(Sw[:,2].min(), max)\n",
    "ax2.set_zlabel('Sq(w)')\n",
    "\n",
    "plt.show()"
   ]
  }
 ],
 "metadata": {
  "kernelspec": {
   "display_name": "Python 3",
   "language": "python",
   "name": "python3"
  },
  "language_info": {
   "codemirror_mode": {
    "name": "ipython",
    "version": 3
   },
   "file_extension": ".py",
   "mimetype": "text/x-python",
   "name": "python",
   "nbconvert_exporter": "python",
   "pygments_lexer": "ipython3",
   "version": "3.6.5"
  }
 },
 "nbformat": 4,
 "nbformat_minor": 2
}
